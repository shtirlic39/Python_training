{
 "cells": [
  {
   "cell_type": "code",
   "execution_count": 318,
   "id": "69c10526",
   "metadata": {},
   "outputs": [],
   "source": [
    "import numpy as np\n",
    "import torch\n",
    "import torch.nn as nn\n",
    "from torch.utils.data import Dataset, DataLoader\n",
    "import sklearn.datasets as datasets\n",
    "import torchvision"
   ]
  },
  {
   "cell_type": "markdown",
   "id": "a23270a9",
   "metadata": {},
   "source": [
    "1) create datasetclas\n",
    "\n",
    "2) create dataset and dataloader\n",
    "\n",
    "3) 2trainings loops: epoch looop and batch loop with training process inside"
   ]
  },
  {
   "cell_type": "markdown",
   "id": "7e677fa4",
   "metadata": {},
   "source": [
    "1) create dataset"
   ]
  },
  {
   "cell_type": "code",
   "execution_count": 327,
   "id": "3ee33024",
   "metadata": {},
   "outputs": [],
   "source": [
    "class MnistDataset(Dataset):\n",
    "    def __init__(self):\n",
    "        train_dataset = torchvision.datasets.MNIST(root='./data', \n",
    "                                                   train=True, \n",
    "                                                   transform=torchvision.transforms.ToTensor(),\n",
    "                                                   download=True)\n",
    "        self.n_samles = train_dataset.train_data.shape[0]\n",
    "        self.X_train = (train_dataset.train_data.view(train_dataset.train_data.shape[0], -1)).type(torch.float32)\n",
    "        self.y_train = (train_dataset.train_labels.view(train_dataset.train_labels.shape[0], -1)).type(torch.float32)\n",
    "    \n",
    "    def __getitem__(self, index):\n",
    "        return self.X_train[index], self.y_train[index]\n",
    "    \n",
    "    def __len__(self):\n",
    "        return self.n_samles"
   ]
  },
  {
   "cell_type": "markdown",
   "id": "fe7f5503",
   "metadata": {},
   "source": [
    "2) Create dataset and DataLoader"
   ]
  },
  {
   "cell_type": "code",
   "execution_count": 330,
   "id": "d9befa3a",
   "metadata": {},
   "outputs": [
    {
     "name": "stderr",
     "output_type": "stream",
     "text": [
      "C:\\Users\\Ext.Kiril.Balabanov\\Anaconda3\\lib\\site-packages\\torchvision\\datasets\\mnist.py:75: UserWarning: train_data has been renamed data\n",
      "  warnings.warn(\"train_data has been renamed data\")\n",
      "C:\\Users\\Ext.Kiril.Balabanov\\Anaconda3\\lib\\site-packages\\torchvision\\datasets\\mnist.py:65: UserWarning: train_labels has been renamed targets\n",
      "  warnings.warn(\"train_labels has been renamed targets\")\n"
     ]
    }
   ],
   "source": [
    "dataset = MnistDataset()"
   ]
  },
  {
   "cell_type": "code",
   "execution_count": 338,
   "id": "18219903",
   "metadata": {},
   "outputs": [],
   "source": [
    "batch_size = 10\n",
    "train_loader = DataLoader(dataset=dataset,\n",
    "                         batch_size=10,\n",
    "                         shuffle=True,\n",
    "                         num_workers=0)"
   ]
  },
  {
   "cell_type": "markdown",
   "id": "0b8c0b7c",
   "metadata": {},
   "source": [
    "3) Create training loop"
   ]
  },
  {
   "cell_type": "code",
   "execution_count": 348,
   "id": "af583da7",
   "metadata": {
    "scrolled": false
   },
   "outputs": [
    {
     "name": "stdout",
     "output_type": "stream",
     "text": [
      "60000 6000.0\n",
      "epoch : 2/10, step 1000/6000.0\n",
      "epoch : 2/10, step 2000/6000.0\n",
      "epoch : 2/10, step 3000/6000.0\n",
      "epoch : 2/10, step 4000/6000.0\n",
      "epoch : 2/10, step 5000/6000.0\n",
      "epoch : 2/10, step 6000/6000.0\n",
      "epoch : 4/10, step 1000/6000.0\n",
      "epoch : 4/10, step 2000/6000.0\n",
      "epoch : 4/10, step 3000/6000.0\n",
      "epoch : 4/10, step 4000/6000.0\n",
      "epoch : 4/10, step 5000/6000.0\n",
      "epoch : 4/10, step 6000/6000.0\n",
      "epoch : 6/10, step 1000/6000.0\n",
      "epoch : 6/10, step 2000/6000.0\n",
      "epoch : 6/10, step 3000/6000.0\n",
      "epoch : 6/10, step 4000/6000.0\n",
      "epoch : 6/10, step 5000/6000.0\n",
      "epoch : 6/10, step 6000/6000.0\n",
      "epoch : 8/10, step 1000/6000.0\n",
      "epoch : 8/10, step 2000/6000.0\n",
      "epoch : 8/10, step 3000/6000.0\n",
      "epoch : 8/10, step 4000/6000.0\n",
      "epoch : 8/10, step 5000/6000.0\n",
      "epoch : 8/10, step 6000/6000.0\n",
      "epoch : 10/10, step 1000/6000.0\n",
      "epoch : 10/10, step 2000/6000.0\n",
      "epoch : 10/10, step 3000/6000.0\n",
      "epoch : 10/10, step 4000/6000.0\n",
      "epoch : 10/10, step 5000/6000.0\n",
      "epoch : 10/10, step 6000/6000.0\n"
     ]
    }
   ],
   "source": [
    "n_epoch = 10\n",
    "total_samles = len(dataset)\n",
    "n_iterations = np.ceil(total_samles / batch_size)\n",
    "print(total_samles, n_iterations)\n",
    "for epoch in range(n_epoch):\n",
    "    for i, (features, labels) in enumerate(train_loader):\n",
    "        #training proccess\n",
    "        if ((i+1) % 1000 == 0) & ((epoch+1) % 2 == 0):\n",
    "            print(f'epoch : {epoch+1}/{n_epoch}, step {i+1}/{n_iterations}')"
   ]
  },
  {
   "cell_type": "code",
   "execution_count": null,
   "id": "b8e1c861",
   "metadata": {},
   "outputs": [],
   "source": []
  }
 ],
 "metadata": {
  "kernelspec": {
   "display_name": "Python 3 (ipykernel)",
   "language": "python",
   "name": "python3"
  },
  "language_info": {
   "codemirror_mode": {
    "name": "ipython",
    "version": 3
   },
   "file_extension": ".py",
   "mimetype": "text/x-python",
   "name": "python",
   "nbconvert_exporter": "python",
   "pygments_lexer": "ipython3",
   "version": "3.9.7"
  }
 },
 "nbformat": 4,
 "nbformat_minor": 5
}
