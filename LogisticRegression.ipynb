{
 "cells": [
  {
   "cell_type": "code",
   "execution_count": 56,
   "id": "69c10526",
   "metadata": {},
   "outputs": [],
   "source": [
    "import numpy as np\n",
    "import torch\n",
    "import torch.nn as nn\n",
    "import sklearn.datasets as datasets\n",
    "from sklearn.preprocessing import StandardScaler\n",
    "from sklearn.model_selection import train_test_split"
   ]
  },
  {
   "cell_type": "markdown",
   "id": "a23270a9",
   "metadata": {},
   "source": [
    "0)prepare data\n",
    "\n",
    "1) create model\n",
    "\n",
    "2) create loss and optimizer\n",
    "\n",
    "3) training loop: forward, backward, weights update"
   ]
  },
  {
   "cell_type": "markdown",
   "id": "7e677fa4",
   "metadata": {},
   "source": [
    "0) prepare data"
   ]
  },
  {
   "cell_type": "code",
   "execution_count": 58,
   "id": "d9009ab1",
   "metadata": {},
   "outputs": [],
   "source": [
    "dataset = datasets.load_breast_cancer()\n",
    "X, y = dataset.data, dataset.target\n",
    "X_train, X_test, y_train, y_test = train_test_split(X, y, test_size=0.2, shuffle=True, random_state=42)"
   ]
  },
  {
   "cell_type": "code",
   "execution_count": 59,
   "id": "f72ce6cc",
   "metadata": {},
   "outputs": [],
   "source": [
    "sc = StandardScaler()\n",
    "X_train = sc.fit_transform(X_train)\n",
    "X_test = sc.transform(X_test)"
   ]
  },
  {
   "cell_type": "code",
   "execution_count": 60,
   "id": "246cfb5a",
   "metadata": {},
   "outputs": [],
   "source": [
    "X_train = torch.from_numpy(X_train.astype(np.float32))\n",
    "X_test = torch.from_numpy(X_test.astype(np.float32))\n",
    "y_train = torch.from_numpy(y_train.astype(np.float32))\n",
    "y_test = torch.from_numpy(y_test.astype(np.float32))"
   ]
  },
  {
   "cell_type": "code",
   "execution_count": 61,
   "id": "2d54be4b",
   "metadata": {},
   "outputs": [],
   "source": [
    "y_train = y_train.view(y_train.shape[0], 1)\n",
    "y_test = y_test.view(y_test.shape[0], 1)"
   ]
  },
  {
   "cell_type": "markdown",
   "id": "da0f10c3",
   "metadata": {},
   "source": [
    "1) create model"
   ]
  },
  {
   "cell_type": "code",
   "execution_count": 62,
   "id": "e466c708",
   "metadata": {},
   "outputs": [],
   "source": [
    "n_samples, n_features, n_targets = X.shape[0], X.shape[1], y_train.shape[1]"
   ]
  },
  {
   "cell_type": "code",
   "execution_count": 63,
   "id": "a9fca0ee",
   "metadata": {},
   "outputs": [],
   "source": [
    "class LogisticRegression(nn.Module):\n",
    "    def __init__(self, n_features, n_targets):\n",
    "        super(LogisticRegression, self).__init__()\n",
    "        self.linear = nn.Linear(n_features, n_targets)\n",
    "    \n",
    "    def forward(self, x):\n",
    "        y_pred = torch.sigmoid(self.linear(x))\n",
    "        return y_pred\n",
    "model = LogisticRegression(n_features, n_targets)"
   ]
  },
  {
   "cell_type": "markdown",
   "id": "3e4715b6",
   "metadata": {},
   "source": [
    "2) create loss, optimizer"
   ]
  },
  {
   "cell_type": "code",
   "execution_count": 64,
   "id": "40ff9512",
   "metadata": {},
   "outputs": [],
   "source": [
    "loss = nn.BCELoss()\n",
    "optimizer = torch.optim.SGD(model.parameters(), lr=0.01)"
   ]
  },
  {
   "cell_type": "markdown",
   "id": "8ad9bce8",
   "metadata": {},
   "source": [
    "3) training loop: forward, backward, weights update"
   ]
  },
  {
   "cell_type": "code",
   "execution_count": 65,
   "id": "3335bb29",
   "metadata": {},
   "outputs": [],
   "source": [
    "n_iter = 10000\n",
    "for epoch in range(n_iter):\n",
    "    optimizer.zero_grad()\n",
    "    \n",
    "    #forward\n",
    "    y_pred = model(X_train)\n",
    "    l = loss(y_pred, y_train)\n",
    "    #backward\n",
    "    l.backward()\n",
    "    #weights update\n",
    "    optimizer.step()    "
   ]
  },
  {
   "cell_type": "code",
   "execution_count": 69,
   "id": "f8b6d4eb",
   "metadata": {},
   "outputs": [
    {
     "name": "stdout",
     "output_type": "stream",
     "text": [
      "accuracy equal 0.9825\n"
     ]
    }
   ],
   "source": [
    "with torch.no_grad():\n",
    "    y_pred = model(X_test).round()\n",
    "    acc = (y_pred.eq(y_test)).sum() / float(y_test.shape[0])\n",
    "    print(f'accuracy equal {acc:.4f}')"
   ]
  }
 ],
 "metadata": {
  "kernelspec": {
   "display_name": "Python 3 (ipykernel)",
   "language": "python",
   "name": "python3"
  },
  "language_info": {
   "codemirror_mode": {
    "name": "ipython",
    "version": 3
   },
   "file_extension": ".py",
   "mimetype": "text/x-python",
   "name": "python",
   "nbconvert_exporter": "python",
   "pygments_lexer": "ipython3",
   "version": "3.9.7"
  }
 },
 "nbformat": 4,
 "nbformat_minor": 5
}
