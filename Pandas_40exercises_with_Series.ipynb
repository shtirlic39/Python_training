{
 "cells": [
  {
   "cell_type": "code",
   "execution_count": 14,
   "id": "00f17cd0",
   "metadata": {},
   "outputs": [],
   "source": [
    "import pandas as pd\n",
    "import numpy as np"
   ]
  },
  {
   "cell_type": "markdown",
   "id": "77f9eadb",
   "metadata": {},
   "source": [
    "1. Write a Pandas program to create and display a one-dimensional array-like object containing an array of data using Pandas module. Go to the editor\n",
    "Click me to see the sample solution"
   ]
  },
  {
   "cell_type": "code",
   "execution_count": 3,
   "id": "7ca8ff0d",
   "metadata": {},
   "outputs": [
    {
     "data": {
      "text/plain": [
       "0    5\n",
       "1    3\n",
       "2    4\n",
       "3    2\n",
       "4    4\n",
       "dtype: int64"
      ]
     },
     "execution_count": 3,
     "metadata": {},
     "output_type": "execute_result"
    }
   ],
   "source": [
    "a = pd.Series([5,3,4,2,4])\n",
    "a"
   ]
  },
  {
   "cell_type": "markdown",
   "id": "129f4389",
   "metadata": {},
   "source": [
    "2. Write a Pandas program to convert a Panda module Series to Python list and it's type. Go to the editor\n",
    "Click me to see the sample solution"
   ]
  },
  {
   "cell_type": "code",
   "execution_count": null,
   "id": "383b94e4",
   "metadata": {},
   "outputs": [],
   "source": [
    "a = pd.Series([5,3,4,2,4])"
   ]
  },
  {
   "cell_type": "code",
   "execution_count": 4,
   "id": "6a282ce8",
   "metadata": {},
   "outputs": [
    {
     "data": {
      "text/plain": [
       "[5, 3, 4, 2, 4]"
      ]
     },
     "execution_count": 4,
     "metadata": {},
     "output_type": "execute_result"
    }
   ],
   "source": [
    "b = list(a)\n",
    "b"
   ]
  },
  {
   "cell_type": "markdown",
   "id": "c51f5015",
   "metadata": {},
   "source": [
    "3. Write a Pandas program to add, subtract, multiple and divide two Pandas Series. Go to the editor\n",
    "Sample Series: [2, 4, 6, 8, 10], [1, 3, 5, 7, 9]\n"
   ]
  },
  {
   "cell_type": "code",
   "execution_count": 5,
   "id": "b127dbab",
   "metadata": {},
   "outputs": [],
   "source": [
    "a,b = pd.Series([2,4,6,8,10]), pd.Series([1,3,5,7,9])"
   ]
  },
  {
   "cell_type": "code",
   "execution_count": 6,
   "id": "2c0e52c8",
   "metadata": {},
   "outputs": [
    {
     "data": {
      "text/plain": [
       "0     3\n",
       "1     7\n",
       "2    11\n",
       "3    15\n",
       "4    19\n",
       "dtype: int64"
      ]
     },
     "execution_count": 6,
     "metadata": {},
     "output_type": "execute_result"
    }
   ],
   "source": [
    "a+b"
   ]
  },
  {
   "cell_type": "code",
   "execution_count": 7,
   "id": "8cd5070d",
   "metadata": {},
   "outputs": [
    {
     "data": {
      "text/plain": [
       "0    1\n",
       "1    1\n",
       "2    1\n",
       "3    1\n",
       "4    1\n",
       "dtype: int64"
      ]
     },
     "execution_count": 7,
     "metadata": {},
     "output_type": "execute_result"
    }
   ],
   "source": [
    "a-b"
   ]
  },
  {
   "cell_type": "code",
   "execution_count": 8,
   "id": "cb9b54a6",
   "metadata": {},
   "outputs": [
    {
     "data": {
      "text/plain": [
       "0     2\n",
       "1    12\n",
       "2    30\n",
       "3    56\n",
       "4    90\n",
       "dtype: int64"
      ]
     },
     "execution_count": 8,
     "metadata": {},
     "output_type": "execute_result"
    }
   ],
   "source": [
    "a*b"
   ]
  },
  {
   "cell_type": "code",
   "execution_count": 9,
   "id": "3a0dd9a1",
   "metadata": {},
   "outputs": [
    {
     "data": {
      "text/plain": [
       "0    2.000000\n",
       "1    1.333333\n",
       "2    1.200000\n",
       "3    1.142857\n",
       "4    1.111111\n",
       "dtype: float64"
      ]
     },
     "execution_count": 9,
     "metadata": {},
     "output_type": "execute_result"
    }
   ],
   "source": [
    "a/b"
   ]
  },
  {
   "cell_type": "markdown",
   "id": "d82aceb6",
   "metadata": {},
   "source": [
    "4. Write a Pandas program to compare the elements of the two Pandas Series. Go to the editor\n",
    "Sample Series: [2, 4, 6, 8, 10], [1, 3, 5, 7, 10]"
   ]
  },
  {
   "cell_type": "code",
   "execution_count": 10,
   "id": "a10cef8f",
   "metadata": {},
   "outputs": [],
   "source": [
    "b = pd.Series([1,3,5,7,10])"
   ]
  },
  {
   "cell_type": "code",
   "execution_count": 11,
   "id": "2aa709af",
   "metadata": {},
   "outputs": [
    {
     "data": {
      "text/plain": [
       "0    False\n",
       "1    False\n",
       "2    False\n",
       "3    False\n",
       "4     True\n",
       "dtype: bool"
      ]
     },
     "execution_count": 11,
     "metadata": {},
     "output_type": "execute_result"
    }
   ],
   "source": [
    "a==b"
   ]
  },
  {
   "cell_type": "markdown",
   "id": "98b0b5d0",
   "metadata": {},
   "source": [
    "5. Write a Pandas program to convert a dictionary to a Pandas series. Go to the editor\n",
    "Sample Series:\n",
    "Original dictionary:\n",
    "{'a': 100, 'b': 200, 'c': 300, 'd': 400, 'e': 800}"
   ]
  },
  {
   "cell_type": "code",
   "execution_count": 12,
   "id": "15200b4b",
   "metadata": {},
   "outputs": [],
   "source": [
    "a = {'a':100, 'b':200, 'c':300, 'd':400, 'e':800}"
   ]
  },
  {
   "cell_type": "code",
   "execution_count": 13,
   "id": "e5b6b3a9",
   "metadata": {},
   "outputs": [
    {
     "data": {
      "text/plain": [
       "a    100\n",
       "b    200\n",
       "c    300\n",
       "d    400\n",
       "e    800\n",
       "dtype: int64"
      ]
     },
     "execution_count": 13,
     "metadata": {},
     "output_type": "execute_result"
    }
   ],
   "source": [
    "b = pd.Series(a)\n",
    "b"
   ]
  },
  {
   "cell_type": "markdown",
   "id": "2bab8ccc",
   "metadata": {},
   "source": [
    "6. Write a Pandas program to convert a NumPy array to a Pandas series. Go to the editor\n",
    "Sample Series:\n",
    "NumPy array:\n",
    "[10 20 30 40 50]"
   ]
  },
  {
   "cell_type": "code",
   "execution_count": 15,
   "id": "9660bcaa",
   "metadata": {},
   "outputs": [],
   "source": [
    "a = np.array([10,20,30,40,50])"
   ]
  },
  {
   "cell_type": "code",
   "execution_count": 16,
   "id": "4dba2519",
   "metadata": {},
   "outputs": [
    {
     "data": {
      "text/plain": [
       "0    10\n",
       "1    20\n",
       "2    30\n",
       "3    40\n",
       "4    50\n",
       "dtype: int32"
      ]
     },
     "execution_count": 16,
     "metadata": {},
     "output_type": "execute_result"
    }
   ],
   "source": [
    "b = pd.Series(a)\n",
    "b"
   ]
  },
  {
   "cell_type": "markdown",
   "id": "31f1092f",
   "metadata": {},
   "source": [
    "7. Write a Pandas program to change the data type of given a column or a Series. Go to the editor\n",
    "Sample Series:\n",
    "Original Data Series:\n",
    "0 100\n",
    "1 200\n",
    "2 python\n",
    "3 300.12\n",
    "4 400\n",
    "dtype: object\n",
    "Change the said data type to numeric:\n",
    "0 100.00\n",
    "1 200.00\n",
    "2 NaN\n",
    "3 300.12\n",
    "4 400.00\n",
    "dtype: float64"
   ]
  },
  {
   "cell_type": "code",
   "execution_count": 19,
   "id": "e4731595",
   "metadata": {},
   "outputs": [
    {
     "data": {
      "text/plain": [
       "0       100\n",
       "1       200\n",
       "2    python\n",
       "3    300.12\n",
       "4       400\n",
       "dtype: object"
      ]
     },
     "execution_count": 19,
     "metadata": {},
     "output_type": "execute_result"
    }
   ],
   "source": [
    "a = pd.Series([100,200, 'python', 300.12, 400])\n",
    "a"
   ]
  },
  {
   "cell_type": "code",
   "execution_count": 20,
   "id": "afefd839",
   "metadata": {},
   "outputs": [
    {
     "data": {
      "text/plain": [
       "0    100.00\n",
       "1    200.00\n",
       "2       NaN\n",
       "3    300.12\n",
       "4    400.00\n",
       "dtype: float64"
      ]
     },
     "execution_count": 20,
     "metadata": {},
     "output_type": "execute_result"
    }
   ],
   "source": [
    "b = pd.to_numeric(a, errors='coerce')\n",
    "b"
   ]
  },
  {
   "cell_type": "markdown",
   "id": "888dbe83",
   "metadata": {},
   "source": [
    "8. Write a Pandas program to convert the first column of a DataFrame as a Series. Go to the editor\n",
    "Sample Output:\n",
    "Original DataFrame\n",
    "col1 col2 col3\n",
    "0 1 4 7\n",
    "1 2 5 5\n",
    "2 3 6 8\n",
    "3 4 9 12\n",
    "4 7 5 1\n",
    "5 11 0 11\n",
    "1st column as a Series:\n",
    "0 1\n",
    "1 2\n",
    "2 3\n",
    "3 4\n",
    "4 7\n",
    "5 11\n",
    "Name: col1, dtype: int64\n",
    "<class 'pandas.core.series.Series'>\n",
    "Click me to see the sample solution"
   ]
  },
  {
   "cell_type": "code",
   "execution_count": 22,
   "id": "272dc12f",
   "metadata": {},
   "outputs": [
    {
     "data": {
      "text/html": [
       "<div>\n",
       "<style scoped>\n",
       "    .dataframe tbody tr th:only-of-type {\n",
       "        vertical-align: middle;\n",
       "    }\n",
       "\n",
       "    .dataframe tbody tr th {\n",
       "        vertical-align: top;\n",
       "    }\n",
       "\n",
       "    .dataframe thead th {\n",
       "        text-align: right;\n",
       "    }\n",
       "</style>\n",
       "<table border=\"1\" class=\"dataframe\">\n",
       "  <thead>\n",
       "    <tr style=\"text-align: right;\">\n",
       "      <th></th>\n",
       "      <th>0</th>\n",
       "      <th>1</th>\n",
       "      <th>2</th>\n",
       "    </tr>\n",
       "  </thead>\n",
       "  <tbody>\n",
       "    <tr>\n",
       "      <th>0</th>\n",
       "      <td>1</td>\n",
       "      <td>4</td>\n",
       "      <td>7</td>\n",
       "    </tr>\n",
       "    <tr>\n",
       "      <th>1</th>\n",
       "      <td>2</td>\n",
       "      <td>5</td>\n",
       "      <td>5</td>\n",
       "    </tr>\n",
       "    <tr>\n",
       "      <th>2</th>\n",
       "      <td>3</td>\n",
       "      <td>6</td>\n",
       "      <td>8</td>\n",
       "    </tr>\n",
       "    <tr>\n",
       "      <th>3</th>\n",
       "      <td>4</td>\n",
       "      <td>9</td>\n",
       "      <td>12</td>\n",
       "    </tr>\n",
       "    <tr>\n",
       "      <th>4</th>\n",
       "      <td>7</td>\n",
       "      <td>5</td>\n",
       "      <td>1</td>\n",
       "    </tr>\n",
       "    <tr>\n",
       "      <th>5</th>\n",
       "      <td>11</td>\n",
       "      <td>0</td>\n",
       "      <td>11</td>\n",
       "    </tr>\n",
       "  </tbody>\n",
       "</table>\n",
       "</div>"
      ],
      "text/plain": [
       "    0  1   2\n",
       "0   1  4   7\n",
       "1   2  5   5\n",
       "2   3  6   8\n",
       "3   4  9  12\n",
       "4   7  5   1\n",
       "5  11  0  11"
      ]
     },
     "execution_count": 22,
     "metadata": {},
     "output_type": "execute_result"
    }
   ],
   "source": [
    "a = pd.DataFrame([[1,4,7],[2,5,5],[3,6,8],[4,9,12],[7,5,1],[11,0,11]])\n",
    "a"
   ]
  },
  {
   "cell_type": "code",
   "execution_count": 28,
   "id": "00174c37",
   "metadata": {},
   "outputs": [
    {
     "data": {
      "text/plain": [
       "pandas.core.series.Series"
      ]
     },
     "execution_count": 28,
     "metadata": {},
     "output_type": "execute_result"
    }
   ],
   "source": [
    "b = a.loc[:,0]\n",
    "type(b)"
   ]
  },
  {
   "cell_type": "markdown",
   "id": "ee6edce0",
   "metadata": {},
   "source": [
    "10. Write a Pandas program to convert Series of lists to one Series. Go to the editor\n",
    "Sample Output:\n",
    "Original Series of list\n",
    "0 [Red, Green, White]\n",
    "1 [Red, Black]\n",
    "2 [Yellow]\n",
    "dtype: object\n",
    "One Series\n",
    "0 Red\n",
    "1 Green\n",
    "2 White\n",
    "3 Red\n",
    "4 Black\n",
    "5 Yellow\n",
    "dtype: object\n",
    "Click me to see the sample solution"
   ]
  },
  {
   "cell_type": "code",
   "execution_count": 29,
   "id": "67e0149f",
   "metadata": {},
   "outputs": [],
   "source": [
    "list0, list1, list2 = ['Red', 'Green', 'White'], ['Red', 'Black'], ['Yellow']"
   ]
  },
  {
   "cell_type": "code",
   "execution_count": 30,
   "id": "aa3b788e",
   "metadata": {},
   "outputs": [
    {
     "data": {
      "text/plain": [
       "0    [Red, Green, White]\n",
       "1           [Red, Black]\n",
       "2               [Yellow]\n",
       "dtype: object"
      ]
     },
     "execution_count": 30,
     "metadata": {},
     "output_type": "execute_result"
    }
   ],
   "source": [
    "a = pd.Series([list0, list1, list2])\n",
    "a"
   ]
  },
  {
   "cell_type": "code",
   "execution_count": 37,
   "id": "549a69b4",
   "metadata": {},
   "outputs": [
    {
     "data": {
      "text/plain": [
       "0       Red\n",
       "1     Green\n",
       "2     White\n",
       "3       Red\n",
       "4     Black\n",
       "5    Yellow\n",
       "dtype: object"
      ]
     },
     "execution_count": 37,
     "metadata": {},
     "output_type": "execute_result"
    }
   ],
   "source": [
    "b = a.apply(pd.Series).stack().reset_index(drop = True)\n",
    "b"
   ]
  },
  {
   "cell_type": "markdown",
   "id": "3a7020f3",
   "metadata": {},
   "source": [
    "11. Write a Pandas program to sort a given Series. Go to the editor\n",
    "Sample Output:\n",
    "Original Data Series: 0 100\n",
    "1 200\n",
    "2 python\n",
    "3 300.12\n",
    "4 400\n",
    "dtype: object\n",
    "0 100\n",
    "1 200\n",
    "3 300.12\n",
    "4 400\n",
    "2 python\n",
    "dtype: object\n",
    "Click me to see the sample solution"
   ]
  },
  {
   "cell_type": "code",
   "execution_count": 40,
   "id": "678f64a0",
   "metadata": {},
   "outputs": [
    {
     "data": {
      "text/plain": [
       "0       100\n",
       "1       200\n",
       "2    python\n",
       "3    300.12\n",
       "4       400\n",
       "dtype: object"
      ]
     },
     "execution_count": 40,
     "metadata": {},
     "output_type": "execute_result"
    }
   ],
   "source": [
    "a = pd.Series([100, 200, 'python', 300.12, 400])\n",
    "a"
   ]
  },
  {
   "cell_type": "code",
   "execution_count": 46,
   "id": "357a7d43",
   "metadata": {},
   "outputs": [
    {
     "data": {
      "text/plain": [
       "0       100\n",
       "1       200\n",
       "2    python\n",
       "3    300.12\n",
       "4       400\n",
       "dtype: object"
      ]
     },
     "execution_count": 46,
     "metadata": {},
     "output_type": "execute_result"
    }
   ],
   "source": [
    "b=a.apply(str)\n",
    "b"
   ]
  },
  {
   "cell_type": "code",
   "execution_count": 49,
   "id": "fec0f89f",
   "metadata": {},
   "outputs": [
    {
     "data": {
      "text/plain": [
       "0       100\n",
       "1       200\n",
       "3    300.12\n",
       "4       400\n",
       "2    python\n",
       "dtype: object"
      ]
     },
     "execution_count": 49,
     "metadata": {},
     "output_type": "execute_result"
    }
   ],
   "source": [
    "b.sort_values(inplace=True)\n",
    "b"
   ]
  },
  {
   "cell_type": "markdown",
   "id": "cdfdf5c9",
   "metadata": {},
   "source": [
    "12. Write a Pandas program to add some data to an existing Series. Go to the editor\n",
    "Sample Output:\n",
    "Original Data Series:\n",
    "0 100\n",
    "1 200\n",
    "2 python\n",
    "3 300.12\n",
    "4 400\n",
    "dtype: object\n",
    "Data Series after adding some data:\n",
    "0 100\n",
    "1 200\n",
    "2 python\n",
    "3 300.12\n",
    "4 400\n",
    "0 500\n",
    "1 php\n",
    "dtype: object\n",
    "Click me to see the sample solution"
   ]
  },
  {
   "cell_type": "code",
   "execution_count": 97,
   "id": "bb3152aa",
   "metadata": {},
   "outputs": [],
   "source": [
    "a = pd.Series([0,100,200,'python', 300.12, 400])"
   ]
  },
  {
   "cell_type": "code",
   "execution_count": 98,
   "id": "63669787",
   "metadata": {},
   "outputs": [
    {
     "data": {
      "text/plain": [
       "0         0\n",
       "1       100\n",
       "2       200\n",
       "3    python\n",
       "4    300.12\n",
       "5       400\n",
       "6       500\n",
       "7       php\n",
       "dtype: object"
      ]
     },
     "execution_count": 98,
     "metadata": {},
     "output_type": "execute_result"
    }
   ],
   "source": [
    "a.append(pd.Series(['500','php']), ignore_index=True)\n"
   ]
  },
  {
   "cell_type": "markdown",
   "id": "aa9deb38",
   "metadata": {},
   "source": [
    "13. Write a Pandas program to create a subset of a given series based on value and condition. Go to the editor\n",
    "Sample Output:\n",
    "Original Data Series:\n",
    "0 0\n",
    "1 1\n",
    "2 2\n",
    "3 3\n",
    "4 4\n",
    "5 5\n",
    "6 6\n",
    "7 7\n",
    "8 8\n",
    "9 9\n",
    "10 10\n",
    "dtype: int64\n",
    "Subset of the above Data Series:\n",
    "0 0\n",
    "1 1\n",
    "2 2\n",
    "3 3\n",
    "4 4\n",
    "5 5\n",
    "dtype: int64"
   ]
  },
  {
   "cell_type": "code",
   "execution_count": 101,
   "id": "6d7c528b",
   "metadata": {},
   "outputs": [
    {
     "data": {
      "text/plain": [
       "0    0\n",
       "1    1\n",
       "2    2\n",
       "3    3\n",
       "4    4\n",
       "5    5\n",
       "6    6\n",
       "7    7\n",
       "8    8\n",
       "9    9\n",
       "dtype: int64"
      ]
     },
     "execution_count": 101,
     "metadata": {},
     "output_type": "execute_result"
    }
   ],
   "source": [
    "a = pd.Series(range(10))\n",
    "a"
   ]
  },
  {
   "cell_type": "code",
   "execution_count": 103,
   "id": "c895fe96",
   "metadata": {},
   "outputs": [
    {
     "data": {
      "text/plain": [
       "0    0\n",
       "1    1\n",
       "2    2\n",
       "3    3\n",
       "4    4\n",
       "5    5\n",
       "dtype: int64"
      ]
     },
     "execution_count": 103,
     "metadata": {},
     "output_type": "execute_result"
    }
   ],
   "source": [
    "a.loc[a<6]"
   ]
  },
  {
   "cell_type": "markdown",
   "id": "b02c26d7",
   "metadata": {},
   "source": [
    "14. Write a Pandas program to change the order of index of a given series. Go to the editor\n",
    "Sample Output:\n",
    "Original Data Series:\n",
    "A 1\n",
    "B 2\n",
    "C 3\n",
    "D 4\n",
    "E 5\n",
    "dtype: int64\n",
    "Data Series after changing the order of index:\n",
    "B 2\n",
    "A 1\n",
    "C 3\n",
    "D 4\n",
    "E 5\n",
    "dtype: int64\n",
    "Click me to see the sample solution"
   ]
  },
  {
   "cell_type": "code",
   "execution_count": 106,
   "id": "1dec2362",
   "metadata": {},
   "outputs": [
    {
     "data": {
      "text/plain": [
       "A    1\n",
       "B    2\n",
       "C    3\n",
       "D    4\n",
       "E    5\n",
       "dtype: int64"
      ]
     },
     "execution_count": 106,
     "metadata": {},
     "output_type": "execute_result"
    }
   ],
   "source": [
    "a = pd.Series(range(1,6),index = ['A','B','C','D','E'])\n",
    "a"
   ]
  },
  {
   "cell_type": "code",
   "execution_count": 107,
   "id": "b913345a",
   "metadata": {},
   "outputs": [
    {
     "data": {
      "text/plain": [
       "A    1\n",
       "B    2\n",
       "C    3\n",
       "D    4\n",
       "E    5\n",
       "dtype: int64"
      ]
     },
     "execution_count": 107,
     "metadata": {},
     "output_type": "execute_result"
    }
   ],
   "source": [
    "a.reindex()"
   ]
  },
  {
   "cell_type": "markdown",
   "id": "e2d29ecb",
   "metadata": {},
   "source": [
    "15. Write a Pandas program to create the mean and standard deviation of the data of a given Series. Go to the editor\n",
    "Sample Output:\n",
    "Original Data Series:\n",
    "0 1\n",
    "1 2\n",
    "2 3\n",
    "3 4\n",
    "4 5\n",
    "5 6\n",
    "6 7\n",
    "7 8\n",
    "8 9\n",
    "9 5\n",
    "10 3\n",
    "dtype: int64\n",
    "Mean of the said Data Series:\n",
    "4.818181818181818\n",
    "Standard deviation of the said Data Series:\n",
    "2.522624895547565\n",
    "Click me to see the sample solution"
   ]
  },
  {
   "cell_type": "code",
   "execution_count": 108,
   "id": "3cd070e6",
   "metadata": {},
   "outputs": [
    {
     "data": {
      "text/plain": [
       "0     1\n",
       "1     2\n",
       "2     3\n",
       "3     4\n",
       "4     5\n",
       "5     6\n",
       "6     7\n",
       "7     8\n",
       "8     9\n",
       "9     5\n",
       "10    3\n",
       "dtype: int64"
      ]
     },
     "execution_count": 108,
     "metadata": {},
     "output_type": "execute_result"
    }
   ],
   "source": [
    "a = pd.Series([1,2,3,4,5,6,7,8,9,5,3])\n",
    "a"
   ]
  },
  {
   "cell_type": "code",
   "execution_count": 109,
   "id": "9c906b16",
   "metadata": {},
   "outputs": [
    {
     "data": {
      "text/plain": [
       "4.818181818181818"
      ]
     },
     "execution_count": 109,
     "metadata": {},
     "output_type": "execute_result"
    }
   ],
   "source": [
    "a.mean()"
   ]
  },
  {
   "cell_type": "code",
   "execution_count": 110,
   "id": "fab02e20",
   "metadata": {},
   "outputs": [
    {
     "data": {
      "text/plain": [
       "2.522624895547565"
      ]
     },
     "execution_count": 110,
     "metadata": {},
     "output_type": "execute_result"
    }
   ],
   "source": [
    "a.std()"
   ]
  },
  {
   "cell_type": "markdown",
   "id": "54f509d1",
   "metadata": {},
   "source": [
    "16. Write a Pandas program to get the items of a given series not present in another given series. Go to the editor\n",
    "Sample Output:\n",
    "Original Series:\n",
    "sr1:\n",
    "0 1\n",
    "1 2\n",
    "2 3\n",
    "3 4\n",
    "4 5\n",
    "dtype: int64\n",
    "sr2:\n",
    "0 2\n",
    "1 4\n",
    "2 6\n",
    "3 8\n",
    "4 10\n",
    "dtype: int64\n",
    "Items of sr1 not present in sr2:\n",
    "0 1\n",
    "2 3\n",
    "4 5\n",
    "dtype: int64\n",
    "Click me to see the sample solution"
   ]
  },
  {
   "cell_type": "code",
   "execution_count": 113,
   "id": "ad329840",
   "metadata": {},
   "outputs": [],
   "source": [
    "sr1 = pd.Series(range(1,6))\n",
    "sr2 = pd.Series(range(2,12,2))"
   ]
  },
  {
   "cell_type": "code",
   "execution_count": 117,
   "id": "e617e912",
   "metadata": {},
   "outputs": [
    {
     "data": {
      "text/plain": [
       "1    2\n",
       "3    4\n",
       "dtype: int64"
      ]
     },
     "execution_count": 117,
     "metadata": {},
     "output_type": "execute_result"
    }
   ],
   "source": [
    "sr1[sr1.isin(sr2)]"
   ]
  },
  {
   "cell_type": "markdown",
   "id": "e2b9909e",
   "metadata": {},
   "source": [
    "17. Write a Pandas program to get the items which are not common of two given series. Go to the editor\n",
    "Sample Output:\n",
    "Original Series:\n",
    "sr1:\n",
    "0 1\n",
    "1 2\n",
    "2 3\n",
    "3 4\n",
    "4 5\n",
    "dtype: int64\n",
    "sr2:\n",
    "0 2\n",
    "1 4\n",
    "2 6\n",
    "3 8\n",
    "4 10\n",
    "dtype: int64\n",
    "Items of a given series not present in another given series:\n",
    "0 1\n",
    "2 3\n",
    "4 5\n",
    "5 6\n",
    "6 8\n",
    "7 10\n",
    "dtype: int64\n",
    "Click me to see the sample solution"
   ]
  },
  {
   "cell_type": "code",
   "execution_count": 118,
   "id": "7b7adbe0",
   "metadata": {},
   "outputs": [
    {
     "data": {
      "text/plain": [
       "(0    1\n",
       " 1    2\n",
       " 2    3\n",
       " 3    4\n",
       " dtype: int64,\n",
       " 0     2\n",
       " 1     4\n",
       " 2     6\n",
       " 3     8\n",
       " 4    10\n",
       " dtype: int64)"
      ]
     },
     "execution_count": 118,
     "metadata": {},
     "output_type": "execute_result"
    }
   ],
   "source": [
    "sr1 = pd.Series(range(1,5))\n",
    "sr2 = pd.Series(range(2,12,2))\n",
    "sr1, sr2"
   ]
  },
  {
   "cell_type": "code",
   "execution_count": 123,
   "id": "305ab5cb",
   "metadata": {},
   "outputs": [
    {
     "data": {
      "text/plain": [
       "0     1\n",
       "2     3\n",
       "4     6\n",
       "5     8\n",
       "6    10\n",
       "dtype: int64"
      ]
     },
     "execution_count": 123,
     "metadata": {},
     "output_type": "execute_result"
    }
   ],
   "source": [
    "sr3 = pd.Series(np.union1d(sr1, sr2))\n",
    "sr4 = pd.Series(np.intersect1d(sr1, sr2))\n",
    "sr5 = sr3[~sr3.isin(sr4)]\n",
    "sr5"
   ]
  },
  {
   "cell_type": "markdown",
   "id": "8005f41a",
   "metadata": {},
   "source": [
    "18. Write a Pandas program to compute the minimum, 25th percentile, median, 75th, and maximum of a given series. Go to the editor\n",
    "Sample Output:\n",
    "Original Series:\n",
    "0 3.000938\n",
    "1 11.370722\n",
    "2 14.612143\n",
    "3 8.990256\n",
    "4 13.925283\n",
    "5 12.056875\n",
    ".... 17 14.118931\n",
    "18 8.247458\n",
    "19 5.526727\n",
    "dtype: float64\n",
    "Minimum, 25th percentile, median, 75th, and maximum of a given series:\n",
    "[ 3.00093811 8.09463867 10.23353705 12.21537733 14.61214321]\n",
    "Click me to see the sample solution"
   ]
  },
  {
   "cell_type": "code",
   "execution_count": 133,
   "id": "7939fc4d",
   "metadata": {},
   "outputs": [
    {
     "data": {
      "text/plain": [
       "0     19.782985\n",
       "1     16.204609\n",
       "2     13.073234\n",
       "3     12.637588\n",
       "4     12.027267\n",
       "5      2.166272\n",
       "6      9.421693\n",
       "7     19.639997\n",
       "8     13.439877\n",
       "9     18.570476\n",
       "10     5.617312\n",
       "11    10.079235\n",
       "12     6.963090\n",
       "13     4.429909\n",
       "14     9.641321\n",
       "15    15.472951\n",
       "16     8.173323\n",
       "17    13.461864\n",
       "18     8.578008\n",
       "19    10.568110\n",
       "dtype: float64"
      ]
     },
     "execution_count": 133,
     "metadata": {},
     "output_type": "execute_result"
    }
   ],
   "source": [
    "sr1 = pd.Series([np.random.uniform(2.0, 20.0) for a in range(20)])\n",
    "sr1"
   ]
  },
  {
   "cell_type": "code",
   "execution_count": 136,
   "id": "b8367755",
   "metadata": {},
   "outputs": [
    {
     "data": {
      "text/plain": [
       "(2.166271691695162,\n",
       " 8.476836834739592,\n",
       " 11.297688413108721,\n",
       " 13.964635689070223,\n",
       " 19.782985383216754)"
      ]
     },
     "execution_count": 136,
     "metadata": {},
     "output_type": "execute_result"
    }
   ],
   "source": [
    "sr1.min(), sr1.quantile(0.25), sr1.median(), sr1.quantile(0.75), sr1.max()"
   ]
  },
  {
   "cell_type": "markdown",
   "id": "d3bf384f",
   "metadata": {},
   "source": [
    "19. Write a Pandas program to calculate the frequency counts of each unique value of a given series. Go to the editor\n",
    "Sample Output:\n",
    "Original Series:\n",
    "0 1\n",
    "1 7\n",
    "2 1\n",
    "3 6\n",
    "4 9\n",
    "5 1\n",
    "... 29 2\n",
    "30 9\n",
    "31 1\n",
    "32 2\n",
    "33 9\n",
    "34 2\n",
    "35 9\n",
    "36 0\n",
    "37 0\n",
    "38 4\n",
    "39 8\n",
    "dtype: object\n",
    "Frequency of each unique value of the said series.\n",
    "0 9\n",
    "2 7\n",
    "9 6\n",
    "1 5\n",
    "6 3\n",
    "8 3\n",
    "7 3\n",
    "3 2\n",
    "4 1\n",
    "5 1\n",
    "dtype: int64\n",
    "Click me to see the sample solution"
   ]
  },
  {
   "cell_type": "code",
   "execution_count": 137,
   "id": "1edb016f",
   "metadata": {},
   "outputs": [
    {
     "data": {
      "text/plain": [
       "0     1\n",
       "1     7\n",
       "2     0\n",
       "3     9\n",
       "4     6\n",
       "5     8\n",
       "6     4\n",
       "7     1\n",
       "8     0\n",
       "9     3\n",
       "10    3\n",
       "11    1\n",
       "12    1\n",
       "13    8\n",
       "14    5\n",
       "15    6\n",
       "16    2\n",
       "17    9\n",
       "18    7\n",
       "19    7\n",
       "20    9\n",
       "21    1\n",
       "22    0\n",
       "23    4\n",
       "24    4\n",
       "25    5\n",
       "26    3\n",
       "27    1\n",
       "28    2\n",
       "29    6\n",
       "30    7\n",
       "31    0\n",
       "32    5\n",
       "33    3\n",
       "34    8\n",
       "35    2\n",
       "36    6\n",
       "37    6\n",
       "38    6\n",
       "39    6\n",
       "dtype: int64"
      ]
     },
     "execution_count": 137,
     "metadata": {},
     "output_type": "execute_result"
    }
   ],
   "source": [
    "sr1 = pd.Series([np.random.randint(0,10) for a in range(40)])\n",
    "sr1"
   ]
  },
  {
   "cell_type": "code",
   "execution_count": 141,
   "id": "c107b89d",
   "metadata": {},
   "outputs": [
    {
     "data": {
      "text/plain": [
       "6    7\n",
       "1    6\n",
       "0    4\n",
       "3    4\n",
       "7    4\n",
       "2    3\n",
       "4    3\n",
       "5    3\n",
       "8    3\n",
       "9    3\n",
       "dtype: int64"
      ]
     },
     "execution_count": 141,
     "metadata": {},
     "output_type": "execute_result"
    }
   ],
   "source": [
    "sr1.value_counts()"
   ]
  },
  {
   "cell_type": "markdown",
   "id": "8e1b49e4",
   "metadata": {},
   "source": [
    "20. Write a Pandas program to display most frequent value in a given series and replace everything else as 'Other' in the series. Go to the editor\n",
    "Sample Output:\n",
    "Original Series:\n",
    "0 3\n",
    "1 1\n",
    "2 1\n",
    "3 3\n",
    "4 2\n",
    "5 2\n",
    "6 1\n",
    "7 2\n",
    "8 3\n",
    "9 1\n",
    "10 2\n",
    "11 2\n",
    "12 2\n",
    "13 3\n",
    "14 3\n",
    "dtype: int64\n",
    "Top 2 Freq: 2 6\n",
    "3 5\n",
    "1 4\n",
    "dtype: int64\n",
    "0 Other\n",
    "1 Other\n",
    "2 Other\n",
    "3 Other\n",
    "4 2\n",
    "5 2\n",
    "6 Other\n",
    "7 2\n",
    "8 Other\n",
    "9 Other\n",
    "10 2\n",
    "11 2\n",
    "12 2\n",
    "13 Other\n",
    "14 Other\n",
    "dtype: object\n",
    "Click me to see the sample solution"
   ]
  },
  {
   "cell_type": "code",
   "execution_count": 179,
   "id": "12138803",
   "metadata": {},
   "outputs": [
    {
     "data": {
      "text/plain": [
       "0     1\n",
       "1     2\n",
       "2     3\n",
       "3     2\n",
       "4     1\n",
       "5     3\n",
       "6     1\n",
       "7     3\n",
       "8     1\n",
       "9     2\n",
       "10    2\n",
       "11    1\n",
       "12    3\n",
       "13    1\n",
       "14    3\n",
       "dtype: int64"
      ]
     },
     "execution_count": 179,
     "metadata": {},
     "output_type": "execute_result"
    }
   ],
   "source": [
    "sr1 = pd.Series([np.random.randint(1,4) for a in range(15)])\n",
    "sr1"
   ]
  },
  {
   "cell_type": "code",
   "execution_count": 180,
   "id": "4287e0c5",
   "metadata": {},
   "outputs": [
    {
     "data": {
      "text/plain": [
       "1"
      ]
     },
     "execution_count": 180,
     "metadata": {},
     "output_type": "execute_result"
    }
   ],
   "source": [
    "max_freq = sr1.value_counts().index[0]\n",
    "max_freq"
   ]
  },
  {
   "cell_type": "code",
   "execution_count": 181,
   "id": "ce663716",
   "metadata": {},
   "outputs": [
    {
     "data": {
      "text/plain": [
       "0         1\n",
       "1     other\n",
       "2     other\n",
       "3     other\n",
       "4         1\n",
       "5     other\n",
       "6         1\n",
       "7     other\n",
       "8         1\n",
       "9     other\n",
       "10    other\n",
       "11        1\n",
       "12    other\n",
       "13        1\n",
       "14    other\n",
       "dtype: object"
      ]
     },
     "execution_count": 181,
     "metadata": {},
     "output_type": "execute_result"
    }
   ],
   "source": [
    "sr1[sr1 != max_freq] = 'other'\n",
    "sr1"
   ]
  },
  {
   "cell_type": "markdown",
   "id": "034f59d1",
   "metadata": {},
   "source": [
    "21. Write a Pandas program to find the positions of numbers that are multiples of 5 of a given series. Go to the editor\n",
    "Sample Output:\n",
    "Original Series:\n",
    "0 1\n",
    "1 9\n",
    "2 8\n",
    "3 6\n",
    "4 9\n",
    "5 7\n",
    "6 1\n",
    "7 1\n",
    "8 1\n",
    "dtype: int64\n",
    "Positions of numbers that are multiples of 5:\n",
    "[]\n",
    "Click me to see the sample solution"
   ]
  },
  {
   "cell_type": "code",
   "execution_count": null,
   "id": "3e6aedfc",
   "metadata": {},
   "outputs": [],
   "source": [
    "sr1 = pd.Series([1,9,8,6,9,7,1,1,5])"
   ]
  },
  {
   "cell_type": "code",
   "execution_count": 611,
   "id": "ff92cc79",
   "metadata": {},
   "outputs": [
    {
     "data": {
      "text/plain": [
       "[]"
      ]
     },
     "execution_count": 611,
     "metadata": {},
     "output_type": "execute_result"
    }
   ],
   "source": [
    "list(sr1[sr1//5==0])"
   ]
  },
  {
   "cell_type": "markdown",
   "id": "00aa0eda",
   "metadata": {},
   "source": [
    "22. Write a Pandas program to extract items at given positions of a given series. Go to the editor\n",
    "Sample Output:\n",
    "Original Series:\n",
    "0 2\n",
    "1 3\n",
    "2 9\n",
    "3 0\n",
    "4 2\n",
    "5 3\n",
    "... 19 0\n",
    "20 2\n",
    "21 3\n",
    "dtype: object\n",
    "Extract items at given positions of the said series:\n",
    "0 2\n",
    "2 9\n",
    "6 8\n",
    "11 0\n",
    "21 3\n",
    "dtype: object\n",
    "Click me to see the sample solution"
   ]
  },
  {
   "cell_type": "code",
   "execution_count": 186,
   "id": "e3d3ee20",
   "metadata": {},
   "outputs": [
    {
     "data": {
      "text/plain": [
       "0     8\n",
       "1     3\n",
       "2     0\n",
       "3     2\n",
       "4     7\n",
       "5     5\n",
       "6     7\n",
       "7     5\n",
       "8     5\n",
       "9     4\n",
       "10    4\n",
       "11    1\n",
       "12    2\n",
       "13    0\n",
       "14    4\n",
       "15    6\n",
       "16    8\n",
       "17    5\n",
       "18    4\n",
       "19    6\n",
       "20    8\n",
       "21    0\n",
       "dtype: int32"
      ]
     },
     "execution_count": 186,
     "metadata": {},
     "output_type": "execute_result"
    }
   ],
   "source": [
    "sr1 = pd.Series(np.random.randint(0,9,22))\n",
    "sr1"
   ]
  },
  {
   "cell_type": "code",
   "execution_count": 193,
   "id": "04efc7bf",
   "metadata": {},
   "outputs": [
    {
     "data": {
      "text/plain": [
       "0     8\n",
       "2     0\n",
       "6     7\n",
       "11    1\n",
       "21    0\n",
       "dtype: int32"
      ]
     },
     "execution_count": 193,
     "metadata": {},
     "output_type": "execute_result"
    }
   ],
   "source": [
    "sr1[[0,2,6,11,21]]"
   ]
  },
  {
   "cell_type": "code",
   "execution_count": null,
   "id": "6d96fde2",
   "metadata": {},
   "outputs": [],
   "source": [
    "23. Write a Pandas program to get the positions of items of a given series \n",
    "in another given series. Go to the editor\n",
    "Sample Output:\n",
    "Original Series:\n",
    "0 1\n",
    "1 2\n",
    "2 3\n",
    "3 4\n",
    "4 5\n",
    "5 6\n",
    "6 7\n",
    "7 8\n",
    "8 9\n",
    "9 10\n",
    "dtype: int64\n",
    "0 1\n",
    "1 3\n",
    "2 5\n",
    "3 7\n",
    "4 10\n",
    "dtype: int64\n",
    "Positions of items of series2 in series1:\n",
    "[0, 2, 4, 6, 9]\n",
    "Click me to see the sample solution"
   ]
  },
  {
   "cell_type": "code",
   "execution_count": 199,
   "id": "658556e5",
   "metadata": {},
   "outputs": [
    {
     "data": {
      "text/plain": [
       "(0     1\n",
       " 1     2\n",
       " 2     3\n",
       " 3     4\n",
       " 4     5\n",
       " 5     6\n",
       " 6     7\n",
       " 7     8\n",
       " 8     9\n",
       " 9    10\n",
       " dtype: int64,\n",
       " 0     1\n",
       " 1     3\n",
       " 2     5\n",
       " 3     7\n",
       " 4    10\n",
       " dtype: int64)"
      ]
     },
     "execution_count": 199,
     "metadata": {},
     "output_type": "execute_result"
    }
   ],
   "source": [
    "sr1 = pd.Series(range(1,11))\n",
    "sr2 = pd.Series(range(1,9,2))\n",
    "sr2 = sr2.append(pd.Series(10), ignore_index=True)\n",
    "sr1, sr2"
   ]
  },
  {
   "cell_type": "code",
   "execution_count": 221,
   "id": "60944dec",
   "metadata": {},
   "outputs": [],
   "source": [
    "sr3 = []\n",
    "for i in sr2:\n",
    "    a = sr1[sr1==i]\n",
    "    if a.notnull:\n",
    "        sr3.append(a.index[0])   "
   ]
  },
  {
   "cell_type": "code",
   "execution_count": 222,
   "id": "708ab90f",
   "metadata": {},
   "outputs": [
    {
     "data": {
      "text/plain": [
       "[0, 2, 4, 6, 9]"
      ]
     },
     "execution_count": 222,
     "metadata": {},
     "output_type": "execute_result"
    }
   ],
   "source": [
    "sr3"
   ]
  },
  {
   "cell_type": "markdown",
   "id": "7ce3e172",
   "metadata": {},
   "source": [
    "24. Write a Pandas program convert the first and last character of each word to upper case in each word of a given series. Go to the editor\n",
    "Sample Output:\n",
    "Original Series:\n",
    "0 php\n",
    "1 python\n",
    "2 java\n",
    "3 c#\n",
    "dtype: object\n",
    "First and last character of each word to upper case:\n",
    "0 PhP\n",
    "1 PythoN\n",
    "2 JavA\n",
    "3 C#\n",
    "dtype: object\n",
    "Click me to see the sample solution"
   ]
  },
  {
   "cell_type": "code",
   "execution_count": 226,
   "id": "9663a979",
   "metadata": {},
   "outputs": [
    {
     "data": {
      "text/plain": [
       "0       php\n",
       "1    python\n",
       "2      java\n",
       "3        c#\n",
       "dtype: object"
      ]
     },
     "execution_count": 226,
     "metadata": {},
     "output_type": "execute_result"
    }
   ],
   "source": [
    "sr1 = pd.Series(['php', 'python', 'java', 'c#'])\n",
    "sr1"
   ]
  },
  {
   "cell_type": "code",
   "execution_count": 230,
   "id": "7f57228d",
   "metadata": {},
   "outputs": [
    {
     "data": {
      "text/plain": [
       "0       Php\n",
       "1    Python\n",
       "2      Java\n",
       "3        C#\n",
       "dtype: object"
      ]
     },
     "execution_count": 230,
     "metadata": {},
     "output_type": "execute_result"
    }
   ],
   "source": [
    "sr2 = sr1.map(lambda x: x.capitalize())\n",
    "sr2"
   ]
  },
  {
   "cell_type": "markdown",
   "id": "833d6386",
   "metadata": {},
   "source": [
    "25. Write a Pandas program to calculate the number of characters in each word in a given series. Go to the editor\n",
    "Sample Output:\n",
    "Original Series:\n",
    "0 Php\n",
    "1 Python\n",
    "2 Java\n",
    "3 C#\n",
    "dtype: object\n",
    "Number of characters in each word in the said series:\n",
    "0 3\n",
    "1 6\n",
    "2 4\n",
    "3 2\n",
    "dtype: int64\n",
    "Click me to see the sample solution"
   ]
  },
  {
   "cell_type": "code",
   "execution_count": 231,
   "id": "1e07d2ae",
   "metadata": {},
   "outputs": [
    {
     "data": {
      "text/plain": [
       "0    3\n",
       "1    6\n",
       "2    4\n",
       "3    2\n",
       "dtype: int64"
      ]
     },
     "execution_count": 231,
     "metadata": {},
     "output_type": "execute_result"
    }
   ],
   "source": [
    "sr2.map(lambda x: len(x))"
   ]
  },
  {
   "cell_type": "markdown",
   "id": "0b2bd61c",
   "metadata": {},
   "source": [
    "26. Write a Pandas program to compute difference of differences between consecutive numbers of a given series. Go to the editor\n",
    "Sample Output:\n",
    "Original Series:\n",
    "0 1\n",
    "1 3\n",
    "2 5\n",
    "3 8\n",
    "4 10\n",
    "5 11\n",
    "6 15\n",
    "dtype: int64\n",
    "Difference of differences between consecutive numbers of the said series:\n",
    "[nan, 2.0, 2.0, 3.0, 2.0, 1.0, 4.0]\n",
    "[nan, nan, 0.0, 1.0, -1.0, -1.0, 3.0]\n",
    "Click me to see the sample solution"
   ]
  },
  {
   "cell_type": "code",
   "execution_count": 232,
   "id": "ba7c7d4b",
   "metadata": {},
   "outputs": [],
   "source": [
    "sr1 = pd.Series([1,3,5,8,10,11,15])"
   ]
  },
  {
   "cell_type": "code",
   "execution_count": 235,
   "id": "b824f233",
   "metadata": {},
   "outputs": [
    {
     "data": {
      "text/plain": [
       "([nan, 2.0, 2.0, 3.0, 2.0, 1.0, 4.0], [nan, nan, 0.0, 1.0, -1.0, -1.0, 3.0])"
      ]
     },
     "execution_count": 235,
     "metadata": {},
     "output_type": "execute_result"
    }
   ],
   "source": [
    "sr2 = sr1.diff()\n",
    "sr3 = sr2.diff()\n",
    "sr2.to_list(), sr3.to_list()"
   ]
  },
  {
   "cell_type": "markdown",
   "id": "e6582fdb",
   "metadata": {},
   "source": [
    "27. Write a Pandas program to convert a series of date strings to a timeseries. Go to the editor\n",
    "Sample Output:\n",
    "Original Series:\n",
    "0 01 Jan 2015\n",
    "1 10-02-2016\n",
    "2 20180307\n",
    "3 2014/05/06\n",
    "4 2016-04-12\n",
    "5 2019-04-06T11:20\n",
    "dtype: object\n",
    "Series of date strings to a timeseries:\n",
    "0 2015-01-01 00:00:00\n",
    "1 2016-10-02 00:00:00\n",
    "2 2018-03-07 00:00:00\n",
    "3 2014-05-06 00:00:00\n",
    "4 2016-04-12 00:00:00\n",
    "5 2019-04-06 11:20:00\n",
    "dtype: datetime64[ns]\n",
    "Click me to see the sample solution"
   ]
  },
  {
   "cell_type": "code",
   "execution_count": 236,
   "id": "cd122a84",
   "metadata": {},
   "outputs": [
    {
     "data": {
      "text/plain": [
       "0         01 Jan 2015\n",
       "1          10-02-2016\n",
       "2            20180307\n",
       "3          2014/05/06\n",
       "4          2016-04-12\n",
       "5    2019-04-06T11:20\n",
       "dtype: object"
      ]
     },
     "execution_count": 236,
     "metadata": {},
     "output_type": "execute_result"
    }
   ],
   "source": [
    "sr1 = pd.Series(['01 Jan 2015','10-02-2016','20180307',\n",
    "                 '2014/05/06','2016-04-12','2019-04-06T11:20'])\n",
    "sr1"
   ]
  },
  {
   "cell_type": "code",
   "execution_count": 243,
   "id": "9255de92",
   "metadata": {},
   "outputs": [
    {
     "data": {
      "text/plain": [
       "0   2015-01-01 00:00:00\n",
       "1   2016-10-02 00:00:00\n",
       "2   2018-03-07 00:00:00\n",
       "3   2014-05-06 00:00:00\n",
       "4   2016-04-12 00:00:00\n",
       "5   2019-04-06 11:20:00\n",
       "dtype: datetime64[ns]"
      ]
     },
     "execution_count": 243,
     "metadata": {},
     "output_type": "execute_result"
    }
   ],
   "source": [
    "sr2 = pd.to_datetime(sr1)\n",
    "sr2"
   ]
  },
  {
   "cell_type": "markdown",
   "id": "0e4e9819",
   "metadata": {},
   "source": [
    "28. Write a Pandas program to get the day of month, day of year, week number and day of week from a given series of date strings. Go to the editor\n",
    "Sample Output:\n",
    "Original Series:\n",
    "0 01 Jan 2015\n",
    "1 10-02-2016\n",
    "2 20180307\n",
    "3 2014/05/06\n",
    "4 2016-04-12\n",
    "5 2019-04-06T11:20\n",
    "dtype: object\n",
    "Day of month:\n",
    "[1, 2, 7, 6, 12, 6]\n",
    "Day of year:\n",
    "[1, 276, 66, 126, 103, 96]\n",
    "Week number:\n",
    "[1, 39, 10, 19, 15, 14]\n",
    "Day of week:\n",
    "['Thursday', 'Sunday', 'Wednesday', 'Tuesday', 'Tuesday', 'Saturday']\n",
    "Click me to see the sample solution"
   ]
  },
  {
   "cell_type": "code",
   "execution_count": 303,
   "id": "a25d52cc",
   "metadata": {},
   "outputs": [
    {
     "data": {
      "text/plain": [
       "1"
      ]
     },
     "execution_count": 303,
     "metadata": {},
     "output_type": "execute_result"
    }
   ],
   "source": [
    "from datetime import date\n",
    "from datetime import timedelta"
   ]
  },
  {
   "cell_type": "code",
   "execution_count": 307,
   "id": "8a6c8f3e",
   "metadata": {},
   "outputs": [
    {
     "data": {
      "text/plain": [
       "([1, 2, 7, 6, 12, 6],\n",
       " [1, 276, 66, 126, 103, 96],\n",
       " [1, 39, 10, 19, 15, 14],\n",
       " ['Thursday', 'Sunday', 'Wednesday', 'Tuesday', 'Tuesday', 'Saturday'])"
      ]
     },
     "execution_count": 307,
     "metadata": {},
     "output_type": "execute_result"
    }
   ],
   "source": [
    "days = sr2.map(lambda x: x.day)\n",
    "weeks = sr2.map(lambda x: x.week)\n",
    "weekdays_dict = {1:'Monday', 2: 'Tuesday', 3: 'Wednesday', 4 : 'Thursday',\n",
    "                5: 'Friday', 6: 'Saturday', 7: 'Sunday'}\n",
    "weekdays = sr2.map(lambda x: weekdays_dict[x.isoweekday()])\n",
    "days_from_year = sr2.map(lambda x: (x.date() - date(x.year,1,1)).days + 1)\n",
    "days.tolist(), days_from_year.to_list(), weeks.tolist(), weekdays.tolist()"
   ]
  },
  {
   "cell_type": "markdown",
   "id": "d7830167",
   "metadata": {},
   "source": [
    "29. Write a Pandas program to convert year-month string to dates adding a specified day of the month. Go to the editor\n",
    "Sample Output:\n",
    "Original Series:\n",
    "0 Jan 2015\n",
    "1 Feb 2016\n",
    "2 Mar 2017\n",
    "3 Apr 2018\n",
    "4 May 2019\n",
    "dtype: object\n",
    "New dates:\n",
    "0 2015-01-11\n",
    "1 2016-02-11\n",
    "2 2017-03-11\n",
    "3 2018-04-11\n",
    "4 2019-05-11\n",
    "dtype: datetime64[ns]\n",
    "Click me to see the sample solution"
   ]
  },
  {
   "cell_type": "code",
   "execution_count": 324,
   "id": "ce06416d",
   "metadata": {},
   "outputs": [
    {
     "name": "stdout",
     "output_type": "stream",
     "text": [
      "5\n"
     ]
    },
    {
     "data": {
      "text/plain": [
       "0   2015-01-05\n",
       "1   2016-02-05\n",
       "2   2017-03-05\n",
       "3   2018-04-05\n",
       "4   2019-05-05\n",
       "dtype: datetime64[ns]"
      ]
     },
     "execution_count": 324,
     "metadata": {},
     "output_type": "execute_result"
    }
   ],
   "source": [
    "sr1 = pd.Series(['Jan 2015', 'Feb 2016', 'Mar 2017', 'Apr 2018', 'May 2019'])\n",
    "day = input()\n",
    "sr2 = pd.to_datetime(sr1.map(lambda x: '{0} {1}'.format(day,x)))\n",
    "sr2"
   ]
  },
  {
   "cell_type": "markdown",
   "id": "9bcd403a",
   "metadata": {},
   "source": [
    "30. Write a Pandas program to filter words from a given series that contain atleast two vowels. Go to the editor\n",
    "Sample Output:\n",
    "Original Series:\n",
    "0 Red\n",
    "1 Green\n",
    "2 Orange\n",
    "3 Pink\n",
    "4 Yellow\n",
    "5 White\n",
    "dtype: object\n",
    "Filtered words:\n",
    "1 Green\n",
    "2 Orange\n",
    "4 Yellow\n",
    "5 White\n",
    "dtype: object\n",
    "Click me to see the sample solution"
   ]
  },
  {
   "cell_type": "code",
   "execution_count": 330,
   "id": "15c4c289",
   "metadata": {},
   "outputs": [
    {
     "data": {
      "text/plain": [
       "['a', 'e', 'i', 'o', 'u', 'y', 'A', 'E', 'I', 'O', 'U', 'Y']"
      ]
     },
     "execution_count": 330,
     "metadata": {},
     "output_type": "execute_result"
    }
   ],
   "source": [
    "sr1 = pd.Series(['Red', 'Orange', 'Pink', 'Yellow', 'White'])\n",
    "vowels = ['a', 'e', 'i', 'o', 'u', 'y']\n",
    "_ = [x.capitalize() for x in vowels]\n",
    "vowels.extend(_)\n",
    "vowels"
   ]
  },
  {
   "cell_type": "code",
   "execution_count": 342,
   "id": "ccb472dc",
   "metadata": {},
   "outputs": [
    {
     "data": {
      "text/plain": [
       "1    Orange\n",
       "3    Yellow\n",
       "4     White\n",
       "dtype: object"
      ]
     },
     "execution_count": 342,
     "metadata": {},
     "output_type": "execute_result"
    }
   ],
   "source": [
    "from collections import Counter\n",
    "mask = sr1.map(lambda x: sum(Counter(x).get(i,0) for i in vowels) >= 2)\n",
    "sr1[mask]"
   ]
  },
  {
   "cell_type": "markdown",
   "id": "e5b2a0ab",
   "metadata": {},
   "source": [
    "31. Write a Pandas program to compute the Euclidean distance between two given series. Go to the editor\n",
    "Euclidean distance\n",
    "From Wikipedia,\n",
    "In mathematics, the Euclidean distance or Euclidean metric is the \"ordinary\" straight-line distance between two points in Euclidean space. With this distance, Euclidean space becomes a metric space. The associated norm is called the Euclidean norm.\n",
    "Sample Output:\n",
    "Original series:\n",
    "0 1\n",
    "1 2\n",
    "2 3\n",
    "3 4\n",
    "4 5\n",
    "5 6\n",
    "6 7\n",
    "7 8\n",
    "8 9\n",
    "9 10\n",
    "dtype: int64\n",
    "0 11\n",
    "1 8\n",
    "2 7\n",
    "3 5\n",
    "4 6\n",
    "5 5\n",
    "6 3\n",
    "7 4\n",
    "8 7\n",
    "9 1\n",
    "dtype: int64\n",
    "Euclidean distance between two said series:\n",
    "16.492422502470642\n",
    "Click me to see the sample solution"
   ]
  },
  {
   "cell_type": "code",
   "execution_count": 356,
   "id": "5e47dfe1",
   "metadata": {},
   "outputs": [],
   "source": [
    "sr1 = pd.Series(range(1,11))\n",
    "sr2 = pd.Series([11,8,7,5,6,5,3,4,7,1])"
   ]
  },
  {
   "cell_type": "code",
   "execution_count": 363,
   "id": "52ba30ec",
   "metadata": {},
   "outputs": [
    {
     "data": {
      "text/plain": [
       "16.492422502470642"
      ]
     },
     "execution_count": 363,
     "metadata": {},
     "output_type": "execute_result"
    }
   ],
   "source": [
    "result = np.sqrt(sum([(sr1[i]-sr2[i])**2 for i in range(len(sr1))]))\n",
    "result"
   ]
  },
  {
   "cell_type": "markdown",
   "id": "83657014",
   "metadata": {},
   "source": [
    "test"
   ]
  },
  {
   "cell_type": "code",
   "execution_count": 392,
   "id": "6960c588",
   "metadata": {},
   "outputs": [],
   "source": [
    "sr1 = pd.Series(np.random.randint(1,10,1000000))\n",
    "sr2 = pd.Series(np.random.randint(1,10,1000000))"
   ]
  },
  {
   "cell_type": "code",
   "execution_count": 393,
   "id": "8b2a07a1",
   "metadata": {},
   "outputs": [
    {
     "name": "stdout",
     "output_type": "stream",
     "text": [
      "Wall time: 6.83 s\n"
     ]
    }
   ],
   "source": [
    "%%time\n",
    "result = np.sqrt(sum([(sr1[i]-sr2[i])**2 for i in range(len(sr1))]))"
   ]
  },
  {
   "cell_type": "code",
   "execution_count": 394,
   "id": "f1e2494a",
   "metadata": {},
   "outputs": [
    {
     "name": "stdout",
     "output_type": "stream",
     "text": [
      "Wall time: 6.99 s\n"
     ]
    }
   ],
   "source": [
    "%%time\n",
    "result = sum([(sr1[i]-sr2[i])**2 for i in range(len(sr1))])**0.5"
   ]
  },
  {
   "cell_type": "code",
   "execution_count": 395,
   "id": "d99e76dc",
   "metadata": {},
   "outputs": [
    {
     "name": "stdout",
     "output_type": "stream",
     "text": [
      "Wall time: 4.99 ms\n"
     ]
    }
   ],
   "source": [
    "%%time\n",
    "result = np.linalg.norm(sr1 - sr2)"
   ]
  },
  {
   "cell_type": "code",
   "execution_count": 396,
   "id": "3fece564",
   "metadata": {},
   "outputs": [
    {
     "data": {
      "text/plain": [
       "3652.442196667868"
      ]
     },
     "execution_count": 396,
     "metadata": {},
     "output_type": "execute_result"
    }
   ],
   "source": [
    "result"
   ]
  },
  {
   "cell_type": "markdown",
   "id": "6745de31",
   "metadata": {},
   "source": [
    "32. Write a Pandas program to find the positions of the values neighboured by smaller values on both sides in a given series. Go to the editor\n",
    "Sample Output:\n",
    "Original series:\n",
    "0 1\n",
    "1 8\n",
    "2 7\n",
    "3 5\n",
    "4 6\n",
    "5 5\n",
    "6 3\n",
    "7 4\n",
    "8 7\n",
    "9 1\n",
    "dtype: int64\n",
    "Positions of the values surrounded by smaller values on both sides:\n",
    "[1 4 8]\n",
    "Click me to see the sample solution"
   ]
  },
  {
   "cell_type": "code",
   "execution_count": 397,
   "id": "081356ac",
   "metadata": {},
   "outputs": [],
   "source": [
    "sr1 = pd.Series([1,8,7,5,6,5,3,4,7,1])"
   ]
  },
  {
   "cell_type": "code",
   "execution_count": 426,
   "id": "50b6d31e",
   "metadata": {},
   "outputs": [
    {
     "data": {
      "text/plain": [
       "[1, 4, 8]"
      ]
     },
     "execution_count": 426,
     "metadata": {},
     "output_type": "execute_result"
    }
   ],
   "source": [
    "sr1r = sr1.diff()\n",
    "sr1l = sr1.diff(-1)\n",
    "mask = (sr1l>0)&(sr1r>0)\n",
    "sr1[mask].index.to_list()"
   ]
  },
  {
   "cell_type": "markdown",
   "id": "470dac44",
   "metadata": {},
   "source": [
    "33. Write a Pandas program to replace missing white spaces in a given string with the least frequent character. Go to the editor\n",
    "Sample Output:\n",
    "Original series:\n",
    "abc def abcdef icd\n",
    "c 3\n",
    "d 3\n",
    "3\n",
    "b 2\n",
    "e 2\n",
    "a 2\n",
    "f 2\n",
    "i 1\n",
    "dtype: int64\n",
    "abcidefiabcdefiicd\n",
    "Click me to see the sample solution"
   ]
  },
  {
   "cell_type": "code",
   "execution_count": 448,
   "id": "672b68bd",
   "metadata": {},
   "outputs": [],
   "source": [
    "a = 'abc def abcdef icd'"
   ]
  },
  {
   "cell_type": "code",
   "execution_count": 450,
   "id": "474e3eff",
   "metadata": {},
   "outputs": [
    {
     "data": {
      "text/plain": [
       "'abcidefiabcdefiicd'"
      ]
     },
     "execution_count": 450,
     "metadata": {},
     "output_type": "execute_result"
    }
   ],
   "source": [
    "b = Counter(a)\n",
    "b = b.most_common()[-1][0]\n",
    "a = a.replace(' ', b)\n",
    "a"
   ]
  },
  {
   "cell_type": "markdown",
   "id": "48f1e71d",
   "metadata": {},
   "source": [
    "34. Write a Pandas program to compute the autocorrelations of a given numeric series. Go to the editor\n",
    "From Wikipedia:\n",
    "Autocorrelation, also known as serial correlation, is the correlation of a signal with a delayed copy of itself as a function of delay. Informally, it is the similarity between observations as a function of the time lag between them.\n",
    "Sample Output:\n",
    "Original series:\n",
    "0 13.207262\n",
    "1 4.098685\n",
    "2 -1.435534\n",
    "3 13.626760\n",
    "... 13 -2.346193\n",
    "14 17.873884\n",
    "dtype: float64\n",
    "Autocorrelations of the said series:\n",
    "[-0.38, 0.1, -0.43, 0.03, 0.35, -0.2, 0.04, -0.59, 0.34, 0.11]\n",
    "Click me to see the sample solution"
   ]
  },
  {
   "cell_type": "code",
   "execution_count": 461,
   "id": "0272b388",
   "metadata": {},
   "outputs": [
    {
     "data": {
      "text/plain": [
       "0     16.422147\n",
       "1      1.041572\n",
       "2      7.597368\n",
       "3      0.559915\n",
       "4      4.188316\n",
       "5      0.224869\n",
       "6      9.411154\n",
       "7      5.576234\n",
       "8      9.339940\n",
       "9     -0.965347\n",
       "10    14.789744\n",
       "11     1.186547\n",
       "12    16.292121\n",
       "13     4.442545\n",
       "14    -2.290772\n",
       "dtype: float64"
      ]
     },
     "execution_count": 461,
     "metadata": {},
     "output_type": "execute_result"
    }
   ],
   "source": [
    "sr1 = pd.Series(np.random.uniform(-5,18,15))\n",
    "sr1"
   ]
  },
  {
   "cell_type": "code",
   "execution_count": 463,
   "id": "b7456d2d",
   "metadata": {},
   "outputs": [
    {
     "data": {
      "text/plain": [
       "[1.0,\n",
       " -0.5377328963809119,\n",
       " 0.3672770846009813,\n",
       " -0.4741417730063896,\n",
       " 0.15483448504512082,\n",
       " -0.32326908946560534,\n",
       " 0.3601458892488166,\n",
       " -0.49389973965615835,\n",
       " 0.26863059542450507,\n",
       " -0.5217155563112165,\n",
       " 0.7242907929550794,\n",
       " -0.3166312333830226,\n",
       " 0.6934048016667937,\n",
       " 1.0,\n",
       " nan]"
      ]
     },
     "execution_count": 463,
     "metadata": {},
     "output_type": "execute_result"
    }
   ],
   "source": [
    "result = [sr1.autocorr(i) for i in range(len(sr1))]\n",
    "result"
   ]
  },
  {
   "cell_type": "markdown",
   "id": "4e0358d6",
   "metadata": {},
   "source": [
    "35. Write a Pandas program to create a TimeSeries to display all the Sundays of given year. Go to the editor\n",
    "Sample Output:\n",
    "All Sundays of 2019:\n",
    "0 2020-01-05\n",
    "1 2020-01-12\n",
    "2 2020-01-19\n",
    "3 2020-01-26\n",
    "4 2020-02-02\n",
    "5 2020-02-09\n",
    "..... 48 2020-12-06\n",
    "49 2020-12-13\n",
    "50 2020-12-20\n",
    "51 2020-12-27\n",
    "dtype: datetime64[ns]\n",
    "Click me to see the sample solution"
   ]
  },
  {
   "cell_type": "code",
   "execution_count": 510,
   "id": "66f91c74",
   "metadata": {},
   "outputs": [
    {
     "name": "stdout",
     "output_type": "stream",
     "text": [
      "1572\n"
     ]
    }
   ],
   "source": [
    "year = input()"
   ]
  },
  {
   "cell_type": "code",
   "execution_count": 511,
   "id": "8cdec4ac",
   "metadata": {},
   "outputs": [],
   "source": [
    "a = date(int(year), 1, 1)\n",
    "b = a.replace(int(year)+1)\n",
    "c = b-a\n",
    "d = [date(int(year),1 ,1) + timedelta(days = i) for i in range(c.days)]"
   ]
  },
  {
   "cell_type": "code",
   "execution_count": 514,
   "id": "3661ab45",
   "metadata": {},
   "outputs": [
    {
     "data": {
      "text/plain": [
       "1      1572-01-02\n",
       "8      1572-01-09\n",
       "15     1572-01-16\n",
       "22     1572-01-23\n",
       "29     1572-01-30\n",
       "36     1572-02-06\n",
       "43     1572-02-13\n",
       "50     1572-02-20\n",
       "57     1572-02-27\n",
       "64     1572-03-05\n",
       "71     1572-03-12\n",
       "78     1572-03-19\n",
       "85     1572-03-26\n",
       "92     1572-04-02\n",
       "99     1572-04-09\n",
       "106    1572-04-16\n",
       "113    1572-04-23\n",
       "120    1572-04-30\n",
       "127    1572-05-07\n",
       "134    1572-05-14\n",
       "141    1572-05-21\n",
       "148    1572-05-28\n",
       "155    1572-06-04\n",
       "162    1572-06-11\n",
       "169    1572-06-18\n",
       "176    1572-06-25\n",
       "183    1572-07-02\n",
       "190    1572-07-09\n",
       "197    1572-07-16\n",
       "204    1572-07-23\n",
       "211    1572-07-30\n",
       "218    1572-08-06\n",
       "225    1572-08-13\n",
       "232    1572-08-20\n",
       "239    1572-08-27\n",
       "246    1572-09-03\n",
       "253    1572-09-10\n",
       "260    1572-09-17\n",
       "267    1572-09-24\n",
       "274    1572-10-01\n",
       "281    1572-10-08\n",
       "288    1572-10-15\n",
       "295    1572-10-22\n",
       "302    1572-10-29\n",
       "309    1572-11-05\n",
       "316    1572-11-12\n",
       "323    1572-11-19\n",
       "330    1572-11-26\n",
       "337    1572-12-03\n",
       "344    1572-12-10\n",
       "351    1572-12-17\n",
       "358    1572-12-24\n",
       "365    1572-12-31\n",
       "dtype: object"
      ]
     },
     "execution_count": 514,
     "metadata": {},
     "output_type": "execute_result"
    }
   ],
   "source": [
    "sr1 = pd.Series(d)\n",
    "mask = sr1.map(lambda x: x.isoweekday()==7)\n",
    "sr1[mask]"
   ]
  },
  {
   "cell_type": "markdown",
   "id": "89e97814",
   "metadata": {},
   "source": [
    "36. Write a Pandas program to convert given series into a dataframe with its index as another column on the dataframe. Go to the editor\n",
    "Sample Output:\n",
    "index 0\n",
    "0 A 0\n",
    "1 B 1\n",
    "2 C 2\n",
    "3 D 3\n",
    "4 E 4\n",
    "Click me to see the sample solution"
   ]
  },
  {
   "cell_type": "code",
   "execution_count": 522,
   "id": "65b020e3",
   "metadata": {},
   "outputs": [
    {
     "data": {
      "text/plain": [
       "0    A\n",
       "1    B\n",
       "2    C\n",
       "3    D\n",
       "4    E\n",
       "dtype: object"
      ]
     },
     "execution_count": 522,
     "metadata": {},
     "output_type": "execute_result"
    }
   ],
   "source": [
    "sr1 = pd.Series(list('ABCDE'))\n",
    "sr1"
   ]
  },
  {
   "cell_type": "code",
   "execution_count": 537,
   "id": "a7431aa3",
   "metadata": {},
   "outputs": [
    {
     "data": {
      "text/html": [
       "<div>\n",
       "<style scoped>\n",
       "    .dataframe tbody tr th:only-of-type {\n",
       "        vertical-align: middle;\n",
       "    }\n",
       "\n",
       "    .dataframe tbody tr th {\n",
       "        vertical-align: top;\n",
       "    }\n",
       "\n",
       "    .dataframe thead th {\n",
       "        text-align: right;\n",
       "    }\n",
       "</style>\n",
       "<table border=\"1\" class=\"dataframe\">\n",
       "  <thead>\n",
       "    <tr style=\"text-align: right;\">\n",
       "      <th></th>\n",
       "      <th>0</th>\n",
       "      <th>ser_index</th>\n",
       "    </tr>\n",
       "  </thead>\n",
       "  <tbody>\n",
       "    <tr>\n",
       "      <th>0</th>\n",
       "      <td>A</td>\n",
       "      <td>0</td>\n",
       "    </tr>\n",
       "    <tr>\n",
       "      <th>1</th>\n",
       "      <td>B</td>\n",
       "      <td>1</td>\n",
       "    </tr>\n",
       "    <tr>\n",
       "      <th>2</th>\n",
       "      <td>C</td>\n",
       "      <td>2</td>\n",
       "    </tr>\n",
       "    <tr>\n",
       "      <th>3</th>\n",
       "      <td>D</td>\n",
       "      <td>3</td>\n",
       "    </tr>\n",
       "    <tr>\n",
       "      <th>4</th>\n",
       "      <td>E</td>\n",
       "      <td>4</td>\n",
       "    </tr>\n",
       "  </tbody>\n",
       "</table>\n",
       "</div>"
      ],
      "text/plain": [
       "   0  ser_index\n",
       "0  A          0\n",
       "1  B          1\n",
       "2  C          2\n",
       "3  D          3\n",
       "4  E          4"
      ]
     },
     "execution_count": 537,
     "metadata": {},
     "output_type": "execute_result"
    }
   ],
   "source": [
    "df1 = pd.DataFrame(sr1).assign(ser_index = sr1.index)\n",
    "df1"
   ]
  },
  {
   "cell_type": "markdown",
   "id": "f2f9628f",
   "metadata": {},
   "source": [
    "37. Write a Pandas program to stack two given series vertically and horizontally. Go to the editor\n",
    "Sample Output:\n",
    "Original Series:\n",
    "0 0\n",
    "1 1\n",
    "2 2\n",
    "3 3\n",
    "4 4\n",
    "5 5\n",
    "6 6\n",
    "7 7\n",
    "8 8\n",
    "9 9\n",
    "dtype: int64\n",
    "0 p\n",
    "1 q\n",
    "2 r\n",
    "3 s\n",
    "4 t\n",
    "5 u\n",
    "6 v\n",
    "7 w\n",
    "8 x\n",
    "9 y\n",
    "dtype: object\n",
    "Stack two given series vertically and horizontally:\n",
    "0 1\n",
    "0 0 p\n",
    "1 1 q\n",
    "2 2 r\n",
    "3 3 s\n",
    "4 4 t\n",
    "5 5 u\n",
    "6 6 v\n",
    "7 7 w\n",
    "8 8 x\n",
    "9 9 y\n",
    "Click me to see the sample solution"
   ]
  },
  {
   "cell_type": "code",
   "execution_count": 555,
   "id": "8745a771",
   "metadata": {},
   "outputs": [],
   "source": [
    "sr1 = pd.Series(range(10))\n",
    "sr2 = pd.Series(list('pqrstuvwxy')).rename('sr2')"
   ]
  },
  {
   "cell_type": "code",
   "execution_count": 556,
   "id": "74c87f68",
   "metadata": {},
   "outputs": [],
   "source": [
    "df1 = sr1.to_frame()"
   ]
  },
  {
   "cell_type": "code",
   "execution_count": 557,
   "id": "65eaa337",
   "metadata": {},
   "outputs": [
    {
     "data": {
      "text/html": [
       "<div>\n",
       "<style scoped>\n",
       "    .dataframe tbody tr th:only-of-type {\n",
       "        vertical-align: middle;\n",
       "    }\n",
       "\n",
       "    .dataframe tbody tr th {\n",
       "        vertical-align: top;\n",
       "    }\n",
       "\n",
       "    .dataframe thead th {\n",
       "        text-align: right;\n",
       "    }\n",
       "</style>\n",
       "<table border=\"1\" class=\"dataframe\">\n",
       "  <thead>\n",
       "    <tr style=\"text-align: right;\">\n",
       "      <th></th>\n",
       "      <th>0</th>\n",
       "      <th>sr2</th>\n",
       "    </tr>\n",
       "  </thead>\n",
       "  <tbody>\n",
       "    <tr>\n",
       "      <th>0</th>\n",
       "      <td>0</td>\n",
       "      <td>p</td>\n",
       "    </tr>\n",
       "    <tr>\n",
       "      <th>1</th>\n",
       "      <td>1</td>\n",
       "      <td>q</td>\n",
       "    </tr>\n",
       "    <tr>\n",
       "      <th>2</th>\n",
       "      <td>2</td>\n",
       "      <td>r</td>\n",
       "    </tr>\n",
       "    <tr>\n",
       "      <th>3</th>\n",
       "      <td>3</td>\n",
       "      <td>s</td>\n",
       "    </tr>\n",
       "    <tr>\n",
       "      <th>4</th>\n",
       "      <td>4</td>\n",
       "      <td>t</td>\n",
       "    </tr>\n",
       "    <tr>\n",
       "      <th>5</th>\n",
       "      <td>5</td>\n",
       "      <td>u</td>\n",
       "    </tr>\n",
       "    <tr>\n",
       "      <th>6</th>\n",
       "      <td>6</td>\n",
       "      <td>v</td>\n",
       "    </tr>\n",
       "    <tr>\n",
       "      <th>7</th>\n",
       "      <td>7</td>\n",
       "      <td>w</td>\n",
       "    </tr>\n",
       "    <tr>\n",
       "      <th>8</th>\n",
       "      <td>8</td>\n",
       "      <td>x</td>\n",
       "    </tr>\n",
       "    <tr>\n",
       "      <th>9</th>\n",
       "      <td>9</td>\n",
       "      <td>y</td>\n",
       "    </tr>\n",
       "  </tbody>\n",
       "</table>\n",
       "</div>"
      ],
      "text/plain": [
       "   0 sr2\n",
       "0  0   p\n",
       "1  1   q\n",
       "2  2   r\n",
       "3  3   s\n",
       "4  4   t\n",
       "5  5   u\n",
       "6  6   v\n",
       "7  7   w\n",
       "8  8   x\n",
       "9  9   y"
      ]
     },
     "execution_count": 557,
     "metadata": {},
     "output_type": "execute_result"
    }
   ],
   "source": [
    "df1.join(sr2, lsuffix='0', rsuffix='sr2')"
   ]
  },
  {
   "cell_type": "code",
   "execution_count": 562,
   "id": "44eb6fe1",
   "metadata": {},
   "outputs": [
    {
     "data": {
      "text/html": [
       "<div>\n",
       "<style scoped>\n",
       "    .dataframe tbody tr th:only-of-type {\n",
       "        vertical-align: middle;\n",
       "    }\n",
       "\n",
       "    .dataframe tbody tr th {\n",
       "        vertical-align: top;\n",
       "    }\n",
       "\n",
       "    .dataframe thead th {\n",
       "        text-align: right;\n",
       "    }\n",
       "</style>\n",
       "<table border=\"1\" class=\"dataframe\">\n",
       "  <thead>\n",
       "    <tr style=\"text-align: right;\">\n",
       "      <th></th>\n",
       "      <th>0</th>\n",
       "      <th>sr2</th>\n",
       "    </tr>\n",
       "  </thead>\n",
       "  <tbody>\n",
       "    <tr>\n",
       "      <th>0</th>\n",
       "      <td>0</td>\n",
       "      <td>p</td>\n",
       "    </tr>\n",
       "    <tr>\n",
       "      <th>1</th>\n",
       "      <td>1</td>\n",
       "      <td>q</td>\n",
       "    </tr>\n",
       "    <tr>\n",
       "      <th>2</th>\n",
       "      <td>2</td>\n",
       "      <td>r</td>\n",
       "    </tr>\n",
       "    <tr>\n",
       "      <th>3</th>\n",
       "      <td>3</td>\n",
       "      <td>s</td>\n",
       "    </tr>\n",
       "    <tr>\n",
       "      <th>4</th>\n",
       "      <td>4</td>\n",
       "      <td>t</td>\n",
       "    </tr>\n",
       "    <tr>\n",
       "      <th>5</th>\n",
       "      <td>5</td>\n",
       "      <td>u</td>\n",
       "    </tr>\n",
       "    <tr>\n",
       "      <th>6</th>\n",
       "      <td>6</td>\n",
       "      <td>v</td>\n",
       "    </tr>\n",
       "    <tr>\n",
       "      <th>7</th>\n",
       "      <td>7</td>\n",
       "      <td>w</td>\n",
       "    </tr>\n",
       "    <tr>\n",
       "      <th>8</th>\n",
       "      <td>8</td>\n",
       "      <td>x</td>\n",
       "    </tr>\n",
       "    <tr>\n",
       "      <th>9</th>\n",
       "      <td>9</td>\n",
       "      <td>y</td>\n",
       "    </tr>\n",
       "  </tbody>\n",
       "</table>\n",
       "</div>"
      ],
      "text/plain": [
       "   0 sr2\n",
       "0  0   p\n",
       "1  1   q\n",
       "2  2   r\n",
       "3  3   s\n",
       "4  4   t\n",
       "5  5   u\n",
       "6  6   v\n",
       "7  7   w\n",
       "8  8   x\n",
       "9  9   y"
      ]
     },
     "execution_count": 562,
     "metadata": {},
     "output_type": "execute_result"
    }
   ],
   "source": [
    "pd.concat([sr1, sr2], axis=1)"
   ]
  },
  {
   "cell_type": "markdown",
   "id": "feee4ac5",
   "metadata": {},
   "source": [
    "38. Write a Pandas program to check the equality of two given series. Go to the editor\n",
    "Sample Output:\n",
    "Original Series:\n",
    "0 1\n",
    "1 8\n",
    "2 7\n",
    "3 5\n",
    "4 6\n",
    "5 5\n",
    "6 3\n",
    "7 4\n",
    "8 7\n",
    "9 1\n",
    "dtype: int64\n",
    "0 1\n",
    "1 8\n",
    "2 7\n",
    "3 5\n",
    "4 6\n",
    "5 5\n",
    "6 3\n",
    "7 4\n",
    "8 7\n",
    "9 1\n",
    "dtype: int64\n",
    "Check 2 series are equal or not?\n",
    "0 True\n",
    "1 True\n",
    "2 True\n",
    "3 True\n",
    "4 True\n",
    "5 True\n",
    "6 True\n",
    "7 True\n",
    "8 True\n",
    "9 True\n",
    "dtype: bool\n",
    "Click me to see the sample solution"
   ]
  },
  {
   "cell_type": "code",
   "execution_count": 569,
   "id": "b26acbd3",
   "metadata": {},
   "outputs": [],
   "source": [
    "sr1 = pd.Series([1,8,7,5,6,5,3,4,7,1])\n",
    "sr2 = pd.Series([1,8,7,5,6,3,3,4,7,1])"
   ]
  },
  {
   "cell_type": "code",
   "execution_count": 570,
   "id": "ecf08c6c",
   "metadata": {},
   "outputs": [
    {
     "data": {
      "text/plain": [
       "0     True\n",
       "1     True\n",
       "2     True\n",
       "3     True\n",
       "4     True\n",
       "5    False\n",
       "6     True\n",
       "7     True\n",
       "8     True\n",
       "9     True\n",
       "dtype: bool"
      ]
     },
     "execution_count": 570,
     "metadata": {},
     "output_type": "execute_result"
    }
   ],
   "source": [
    "sr1==sr2"
   ]
  },
  {
   "cell_type": "markdown",
   "id": "eadff95f",
   "metadata": {},
   "source": [
    "39. Write a Pandas program to find the index of the first occurrence of the smallest and largest value of a given series. Go to the editor\n",
    "Sample Output:\n",
    "Original Series:\n",
    "0 1\n",
    "1 3\n",
    "2 7\n",
    "3 12\n",
    "4 88\n",
    "5 23\n",
    "6 3\n",
    "7 1\n",
    "8 9\n",
    "9 0\n",
    "dtype: int64\n",
    "Index of the first occurrence of the smallest and largest value of the said series:\n",
    "9\n",
    "4\n",
    "Click me to see the sample solution"
   ]
  },
  {
   "cell_type": "code",
   "execution_count": 571,
   "id": "72ebc4ab",
   "metadata": {},
   "outputs": [],
   "source": [
    "sr1 = pd.Series([1,3,7,12,88,23,3,1,9,0])"
   ]
  },
  {
   "cell_type": "code",
   "execution_count": 582,
   "id": "633095dd",
   "metadata": {},
   "outputs": [
    {
     "data": {
      "text/plain": [
       "(9, 4)"
      ]
     },
     "execution_count": 582,
     "metadata": {},
     "output_type": "execute_result"
    }
   ],
   "source": [
    "sr1.idxmin(), sr1.idxmax()"
   ]
  },
  {
   "cell_type": "markdown",
   "id": "d5c00ebb",
   "metadata": {},
   "source": [
    "40. Write a Pandas program to check inequality over the index axis of a given dataframe and a given series. Go to the editor\n",
    "Sample Output:\n",
    "Original DataFrame:\n",
    "W X Y Z\n",
    "0 68.0 78.0 84 86\n",
    "1 75.0 75.0 94 97\n",
    "2 86.0 NaN 89 96\n",
    "3 80.0 80.0 86 72\n",
    "4 NaN 86.0 86 83\n",
    "Original Series:\n",
    "0 68.0\n",
    "1 75.0\n",
    "2 86.0\n",
    "3 80.0\n",
    "4 NaN\n",
    "dtype: float64\n",
    "Check for inequality of the said series & dataframe:\n",
    "W X Y Z\n",
    "0 False True True True\n",
    "1 False False True True\n",
    "2 False True True True\n",
    "3 False False True True\n",
    "4 True True True True\n",
    "Click me to see the sample solution"
   ]
  },
  {
   "cell_type": "code",
   "execution_count": 587,
   "id": "2d09a035",
   "metadata": {},
   "outputs": [
    {
     "data": {
      "text/html": [
       "<div>\n",
       "<style scoped>\n",
       "    .dataframe tbody tr th:only-of-type {\n",
       "        vertical-align: middle;\n",
       "    }\n",
       "\n",
       "    .dataframe tbody tr th {\n",
       "        vertical-align: top;\n",
       "    }\n",
       "\n",
       "    .dataframe thead th {\n",
       "        text-align: right;\n",
       "    }\n",
       "</style>\n",
       "<table border=\"1\" class=\"dataframe\">\n",
       "  <thead>\n",
       "    <tr style=\"text-align: right;\">\n",
       "      <th></th>\n",
       "      <th>W</th>\n",
       "      <th>X</th>\n",
       "      <th>Y</th>\n",
       "      <th>Z</th>\n",
       "    </tr>\n",
       "  </thead>\n",
       "  <tbody>\n",
       "    <tr>\n",
       "      <th>0</th>\n",
       "      <td>68.0</td>\n",
       "      <td>78.0</td>\n",
       "      <td>84</td>\n",
       "      <td>86</td>\n",
       "    </tr>\n",
       "    <tr>\n",
       "      <th>1</th>\n",
       "      <td>75.0</td>\n",
       "      <td>75.0</td>\n",
       "      <td>94</td>\n",
       "      <td>97</td>\n",
       "    </tr>\n",
       "    <tr>\n",
       "      <th>2</th>\n",
       "      <td>86.0</td>\n",
       "      <td>NaN</td>\n",
       "      <td>89</td>\n",
       "      <td>96</td>\n",
       "    </tr>\n",
       "    <tr>\n",
       "      <th>3</th>\n",
       "      <td>80.0</td>\n",
       "      <td>80.0</td>\n",
       "      <td>86</td>\n",
       "      <td>72</td>\n",
       "    </tr>\n",
       "    <tr>\n",
       "      <th>4</th>\n",
       "      <td>NaN</td>\n",
       "      <td>86.0</td>\n",
       "      <td>86</td>\n",
       "      <td>83</td>\n",
       "    </tr>\n",
       "  </tbody>\n",
       "</table>\n",
       "</div>"
      ],
      "text/plain": [
       "      W     X   Y   Z\n",
       "0  68.0  78.0  84  86\n",
       "1  75.0  75.0  94  97\n",
       "2  86.0   NaN  89  96\n",
       "3  80.0  80.0  86  72\n",
       "4   NaN  86.0  86  83"
      ]
     },
     "execution_count": 587,
     "metadata": {},
     "output_type": "execute_result"
    }
   ],
   "source": [
    "df1 = pd.DataFrame({'W':[68,75,86,80,None],\n",
    "                   'X':[78,75,None,80,86],\n",
    "                   'Y':[84,94,89,86,86],\n",
    "                   'Z':[86,97,96,72,83]})\n",
    "df1"
   ]
  },
  {
   "cell_type": "code",
   "execution_count": 588,
   "id": "f7671fc5",
   "metadata": {},
   "outputs": [
    {
     "data": {
      "text/plain": [
       "0    68.0\n",
       "1    75.0\n",
       "2    86.0\n",
       "3    80.0\n",
       "4     NaN\n",
       "dtype: float64"
      ]
     },
     "execution_count": 588,
     "metadata": {},
     "output_type": "execute_result"
    }
   ],
   "source": [
    "sr1 = pd.Series([68,75,86,80,None])\n",
    "sr1"
   ]
  },
  {
   "cell_type": "code",
   "execution_count": 609,
   "id": "eeb0ce13",
   "metadata": {},
   "outputs": [
    {
     "data": {
      "text/html": [
       "<div>\n",
       "<style scoped>\n",
       "    .dataframe tbody tr th:only-of-type {\n",
       "        vertical-align: middle;\n",
       "    }\n",
       "\n",
       "    .dataframe tbody tr th {\n",
       "        vertical-align: top;\n",
       "    }\n",
       "\n",
       "    .dataframe thead th {\n",
       "        text-align: right;\n",
       "    }\n",
       "</style>\n",
       "<table border=\"1\" class=\"dataframe\">\n",
       "  <thead>\n",
       "    <tr style=\"text-align: right;\">\n",
       "      <th></th>\n",
       "      <th>W</th>\n",
       "      <th>X</th>\n",
       "      <th>Y</th>\n",
       "      <th>Z</th>\n",
       "    </tr>\n",
       "  </thead>\n",
       "  <tbody>\n",
       "    <tr>\n",
       "      <th>0</th>\n",
       "      <td>False</td>\n",
       "      <td>True</td>\n",
       "      <td>True</td>\n",
       "      <td>True</td>\n",
       "    </tr>\n",
       "    <tr>\n",
       "      <th>1</th>\n",
       "      <td>False</td>\n",
       "      <td>False</td>\n",
       "      <td>True</td>\n",
       "      <td>True</td>\n",
       "    </tr>\n",
       "    <tr>\n",
       "      <th>2</th>\n",
       "      <td>False</td>\n",
       "      <td>True</td>\n",
       "      <td>True</td>\n",
       "      <td>True</td>\n",
       "    </tr>\n",
       "    <tr>\n",
       "      <th>3</th>\n",
       "      <td>False</td>\n",
       "      <td>False</td>\n",
       "      <td>True</td>\n",
       "      <td>True</td>\n",
       "    </tr>\n",
       "    <tr>\n",
       "      <th>4</th>\n",
       "      <td>True</td>\n",
       "      <td>True</td>\n",
       "      <td>True</td>\n",
       "      <td>True</td>\n",
       "    </tr>\n",
       "  </tbody>\n",
       "</table>\n",
       "</div>"
      ],
      "text/plain": [
       "       W      X     Y     Z\n",
       "0  False   True  True  True\n",
       "1  False  False  True  True\n",
       "2  False   True  True  True\n",
       "3  False  False  True  True\n",
       "4   True   True  True  True"
      ]
     },
     "execution_count": 609,
     "metadata": {},
     "output_type": "execute_result"
    }
   ],
   "source": [
    "result = pd.DataFrame()\n",
    "for a in df1.columns:\n",
    "    result[a] = df1[a]!=sr1\n",
    "result"
   ]
  },
  {
   "cell_type": "code",
   "execution_count": 608,
   "id": "a9d2d1e8",
   "metadata": {},
   "outputs": [
    {
     "data": {
      "text/html": [
       "<div>\n",
       "<style scoped>\n",
       "    .dataframe tbody tr th:only-of-type {\n",
       "        vertical-align: middle;\n",
       "    }\n",
       "\n",
       "    .dataframe tbody tr th {\n",
       "        vertical-align: top;\n",
       "    }\n",
       "\n",
       "    .dataframe thead th {\n",
       "        text-align: right;\n",
       "    }\n",
       "</style>\n",
       "<table border=\"1\" class=\"dataframe\">\n",
       "  <thead>\n",
       "    <tr style=\"text-align: right;\">\n",
       "      <th></th>\n",
       "      <th>W</th>\n",
       "      <th>X</th>\n",
       "      <th>Y</th>\n",
       "      <th>Z</th>\n",
       "    </tr>\n",
       "  </thead>\n",
       "  <tbody>\n",
       "    <tr>\n",
       "      <th>0</th>\n",
       "      <td>False</td>\n",
       "      <td>True</td>\n",
       "      <td>True</td>\n",
       "      <td>True</td>\n",
       "    </tr>\n",
       "    <tr>\n",
       "      <th>1</th>\n",
       "      <td>False</td>\n",
       "      <td>False</td>\n",
       "      <td>True</td>\n",
       "      <td>True</td>\n",
       "    </tr>\n",
       "    <tr>\n",
       "      <th>2</th>\n",
       "      <td>False</td>\n",
       "      <td>True</td>\n",
       "      <td>True</td>\n",
       "      <td>True</td>\n",
       "    </tr>\n",
       "    <tr>\n",
       "      <th>3</th>\n",
       "      <td>False</td>\n",
       "      <td>False</td>\n",
       "      <td>True</td>\n",
       "      <td>True</td>\n",
       "    </tr>\n",
       "    <tr>\n",
       "      <th>4</th>\n",
       "      <td>True</td>\n",
       "      <td>True</td>\n",
       "      <td>True</td>\n",
       "      <td>True</td>\n",
       "    </tr>\n",
       "  </tbody>\n",
       "</table>\n",
       "</div>"
      ],
      "text/plain": [
       "       W      X     Y     Z\n",
       "0  False   True  True  True\n",
       "1  False  False  True  True\n",
       "2  False   True  True  True\n",
       "3  False  False  True  True\n",
       "4   True   True  True  True"
      ]
     },
     "execution_count": 608,
     "metadata": {},
     "output_type": "execute_result"
    }
   ],
   "source": [
    "#solution\n",
    "df1.ne(sr1, axis = 0)"
   ]
  },
  {
   "cell_type": "code",
   "execution_count": null,
   "id": "dd28fc9a",
   "metadata": {},
   "outputs": [],
   "source": []
  }
 ],
 "metadata": {
  "kernelspec": {
   "display_name": "Python 3",
   "language": "python",
   "name": "python3"
  },
  "language_info": {
   "codemirror_mode": {
    "name": "ipython",
    "version": 3
   },
   "file_extension": ".py",
   "mimetype": "text/x-python",
   "name": "python",
   "nbconvert_exporter": "python",
   "pygments_lexer": "ipython3",
   "version": "3.8.8"
  }
 },
 "nbformat": 4,
 "nbformat_minor": 5
}
